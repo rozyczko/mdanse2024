{
 "cells": [
  {
   "cell_type": "markdown",
   "metadata": {},
   "source": [
    "# Tutorial for relaxation and vibration calculations using VASP and Phonopy.\n",
    "## Introduction\n",
    "\n",
    "Welcome to the MDANSE2024 School tutorial section on using VASP and Phonopy to calculate phonon modes.\n",
    "\n",
    "This first tutorial will guide you through a simple case of a silicon (Si) crystal.\n",
    "\n",
    "You will learn how to write and read input/output files from VASP using the Atomic Simulation Environment (ASE). For more information, visit [ASE's official documentation](https://wiki.fysik.dtu.dk/ase/index.html).\n",
    "\n",
    "Then, you will run VASP on the ILL high-performance computing (HPC) cluster called `masterp`, using a job submission script.\n",
    "\n",
    "If not already done, please copy this Jupyter Notebook file (.ipynb) and the job submission script `ILL_hpc_vasp_job_local.sh` to your home directory."
   ]
  },
  {
   "cell_type": "markdown",
   "metadata": {},
   "source": [
    "Let us start with importing all the necessary Python modules. We need both the numerical libraries, ASE and Phonopy packages.\n",
    "Execute the following cell by selecting it and clicking the $ \\blacktriangleright $ symbol in the toolbar."
   ]
  },
  {
   "cell_type": "code",
   "execution_count": null,
   "metadata": {},
   "outputs": [],
   "source": [
    "import os\n",
    "import numpy as np\n",
    "import matplotlib.pyplot as plt\n",
    "from ase import Atoms\n",
    "from ase.build import bulk\n",
    "from ase.visualize import view\n",
    "from ase.calculators.vasp import Vasp\n",
    "from ase.io import read, write\n",
    "from phonopy import Phonopy, load\n",
    "from phonopy.structure.atoms import PhonopyAtoms\n",
    "from phonopy.interface.calculator import read_crystal_structure\n",
    "from phonopy.interface.vasp import parse_set_of_forces, write_vasp\n",
    "from phonopy.phonon.band_structure import get_band_qpoints_and_path_connections\n",
    "%env VASP_PP_PATH=/nethome/ds/finel/MDANSE_School_Hands-on_VASP_Phonopy/\n",
    "%env VASP_PP_PATH=."
   ]
  },
  {
   "cell_type": "markdown",
   "metadata": {},
   "source": [
    "## Example 1: Si crystal"
   ]
  },
  {
   "cell_type": "markdown",
   "metadata": {},
   "source": [
    "### 1. Preparing the structure\n",
    "\n",
    "First, we will create a model of silicon crystal, display it and perform simple geometry optimization using VASP.\n",
    "\n",
    "ASE allows us to quickly generate structures - both molecular and periodic.\n",
    "\n",
    "Here, we just tell ASE to create a silicon lattice for us."
   ]
  },
  {
   "cell_type": "code",
   "execution_count": 13,
   "metadata": {},
   "outputs": [],
   "source": [
    "si_conventional = bulk('Si', 'fcc', a=5.43, cubic=True)\n",
    "si_primitive = bulk('Si', 'fcc', a=5.43)"
   ]
  },
  {
   "cell_type": "markdown",
   "metadata": {},
   "source": [
    "We can visualize the cell using one of several tools which come with ASE"
   ]
  },
  {
   "cell_type": "code",
   "execution_count": null,
   "metadata": {},
   "outputs": [],
   "source": [
    "view(si_conventional, viewer='x3d')"
   ]
  },
  {
   "cell_type": "markdown",
   "metadata": {},
   "source": [
    "You can rotate the structure and zoom in and out using your mouse."
   ]
  },
  {
   "cell_type": "markdown",
   "metadata": {},
   "source": [
    "We can also see details of the generated structure. Let's check unit cell lengths in Angstrom."
   ]
  },
  {
   "cell_type": "code",
   "execution_count": null,
   "metadata": {},
   "outputs": [],
   "source": [
    "si_conventional.get_cell()"
   ]
  },
  {
   "cell_type": "markdown",
   "metadata": {},
   "source": [
    "Fractional atomic positions within the cell can be queried with `get_positions()` method. We have 4 Si atoms per conventional cell, so we will get 4 sets of coordinates."
   ]
  },
  {
   "cell_type": "code",
   "execution_count": null,
   "metadata": {},
   "outputs": [],
   "source": [
    "si_conventional.get_positions()"
   ]
  },
  {
   "cell_type": "markdown",
   "metadata": {},
   "source": [
    "Similar check can be done for the primitive cell."
   ]
  },
  {
   "cell_type": "code",
   "execution_count": null,
   "metadata": {},
   "outputs": [],
   "source": [
    "view(si_primitive, viewer='x3d')"
   ]
  },
  {
   "cell_type": "code",
   "execution_count": null,
   "metadata": {},
   "outputs": [],
   "source": [
    "si_primitive.get_cell()"
   ]
  },
  {
   "cell_type": "code",
   "execution_count": null,
   "metadata": {},
   "outputs": [],
   "source": [
    "si_primitive.get_positions()"
   ]
  },
  {
   "cell_type": "markdown",
   "metadata": {},
   "source": [
    "A more sophisticated optional viewing engine is NGLView."
   ]
  },
  {
   "cell_type": "code",
   "execution_count": null,
   "metadata": {},
   "outputs": [],
   "source": [
    "try:\n",
    "    import nglview\n",
    "except ImportError:\n",
    "    !pip install nglview\n",
    "    import nglview\n",
    "view(si_primitive, viewer='ngl')"
   ]
  },
  {
   "cell_type": "markdown",
   "metadata": {},
   "source": [
    "### 2. Relaxing the structure (geometry optimization)"
   ]
  },
  {
   "cell_type": "markdown",
   "metadata": {},
   "source": [
    "Phonon calculations need to be performed on a fully optimized structure, i.e. forces on atoms should be as close to zero as possible. Geometry optimization determines location of atoms in a crystal (or in a molecule) at 0K. The accuracy of the relaxation needs to be high in order to obtain reliable phonon frequencies.\n",
    "\n",
    "Here, we will use ASE to construct the VASP input files for relaxation. First, create a directory where job files will be kept. This will help in maintaining clean project space between runs."
   ]
  },
  {
   "cell_type": "code",
   "execution_count": 21,
   "metadata": {},
   "outputs": [],
   "source": [
    "os.mkdir('relaxation_si')\n",
    "relaxation_dir='relaxation_si/'"
   ]
  },
  {
   "cell_type": "markdown",
   "metadata": {},
   "source": [
    "In order to properly define the VASP job, we need to pass a number of parameters describing how we want to run the calculation.\n",
    "\n",
    "The keyword `PREC` tells VASP how to set default values for various convergence parameters (energy, FFT grid, etc.). Setting this parameter to `Accurate` means VASP is going to help achieving accurate forces and then more accurate phonon spectrum.\n",
    "\n",
    "The kinetic energy cutoff specifies the energy cutoff for the plane-wave basis set in eV. Here, we will use `300` eV.\n",
    "\n",
    "The SCF loop will be considered converged, if the difference between current and previous energy will be less than `EDIFF` eV. Here, we choose 5.0e-7 eV per atom.\n",
    "\n",
    "We also want to achieve convergence for atomic forces - they should be less than 1e-5 eV/A. The negative sign of `EDIFFG` parameter means that the relaxation is stopped when the norms of all the forces are smaller than |ediffg|, which is a more convenient setting.\n",
    "\n",
    "We will use the standard `PBE` functional, well suited for first order properties like geometries.\n",
    "\n",
    "Specifying `IBRION` and `ISIF` lets us tweak the relaxation algorithm - we want to perform a relaxation calculation (`IBRION!=0`) and vary atomic positions and cell volume at each step (`ISIF=3`).\n",
    "\n",
    "For the k-point grid, we want to use a large number of points in all directions. Hence, we chose `8,8,8`. The grid should be centered on the Γ-point.\n",
    "\n",
    "Lastly, we should not store very large, unneeded files after the job completes, so we need to tell VASP to delete those.\n"
   ]
  },
  {
   "cell_type": "code",
   "execution_count": 22,
   "metadata": {},
   "outputs": [],
   "source": [
    "calc=Vasp(\n",
    "    directory=relaxation_dir,      \n",
    "    label='Si_relaxation',\n",
    "    # Convergence parameters\n",
    "    prec='Accurate',# Vasp precision tag\n",
    "    encut=300,      # energy cutoff for the plane-wave basis set in eV\n",
    "    ediff=5e-7,     # Relax electronic structure until 5e-7 eV energy change between 2 electronic loop\n",
    "    ediffg=-1e-5,   # Relax ionic forces below 1e-5 eV/A\n",
    "    # Job settings\n",
    "    xc=\"pbe\",       # Use the PBE exchange and correlation functional\n",
    "    ibrion=1,       # Ionic relaxation\n",
    "    isif=3,         # Relax positions and cell volume\n",
    "    # K-point grid settings\n",
    "    kpts=[8,8,8],   # Kpoint grid\n",
    "    gamma=True,     # Gamma-centered grid\n",
    "    # Output settings\n",
    "    lwave=False,    # Do not save wave fuction files (large files)\n",
    ")"
   ]
  },
  {
   "cell_type": "markdown",
   "metadata": {},
   "source": [
    "Now, that the VASP job is generated, we can save the required files to the target directory, created earlier."
   ]
  },
  {
   "cell_type": "code",
   "execution_count": 23,
   "metadata": {},
   "outputs": [],
   "source": [
    "calc.write_input(si_conventional)"
   ]
  },
  {
   "cell_type": "markdown",
   "metadata": {},
   "source": [
    "Now you can examine the content of `relaxation_si` subdirectory."
   ]
  },
  {
   "cell_type": "code",
   "execution_count": null,
   "metadata": {},
   "outputs": [],
   "source": [
    "import glob\n",
    "print(\"\\n\".join(glob.glob(\"relaxation_si/*\")))"
   ]
  },
  {
   "cell_type": "markdown",
   "metadata": {},
   "source": [
    "The four files with names in capital letters are VASP input files.\n",
    "\n",
    "`INCAR` lists parameters used in the energy and force calculations.\n",
    "`KPOINTS` describes the kpoint grid used.\n",
    "`POSCAR` describes the unit cell, atom types and their positions.\n",
    "`POTCAR` contains pseudopotentials for each atomic species.\n",
    "\n",
    "All four files are required for the calculation we are about to run.\n"
   ]
  },
  {
   "cell_type": "markdown",
   "metadata": {},
   "source": [
    "Now it is time to run the VASP calculation. For this, we need to submit the job to the cluster:<br>\n",
    "\n",
    "a) Connect to the cluster login node: open a terminal and log in with: `$ ssh <your_username>@masterp.ill.fr`.<br>\n",
    "\n",
    "b) Check that the queue you want to submit to has nodes availables using the `qload` command. If no nodes are available, change the queue in the submit script `vasp.sh`.\n",
    "\n",
    "c) Copy your job directory `relaxation_si` to the common folder, accessible from the cluster. This folder is called `MyHome` and is linked to directly in your VISA home directory. Use `$cp -r ~/relaxation_si MyHome`\n",
    "\n",
    "d) Copy your job directory `relaxation_si` to the cluster. Your VISA home folder is mounted on the cluster login node, and it is called as your username. However, the compute nodes don't have access to your home folder, so **you must copy your job directory to the cluster**.<br>\n",
    "From the cluster login node, use `$ cp -r /nethome/notill/<your_username_initial>/<your_username>/relaxation_si ~<your_username>`.<br>\n",
    "\n",
    "E.g. for `John Smith`, this would read `$ cp -r /nethome/notill/s/smith/relaxation_si ~/smith`.<br>\n",
    "\n",
    "e) Launch the job. From the job directory on the cluster (you can move to your job directory using `$ cd relaxation_si`) enter `$ qsub ILL_hpc_vasp_job_local.sh`. You can then monitor your job with `$ qstat`.\n",
    "\n",
    "f) The calculation should take aprrox. 1 min on 1x8 cpus. Copy back the job folder to your home directory using\n",
    "`$ cp -rf relaxation_si/* /nethome/notill/<your_username_initial>/<your_username>`.\n",
    "\n",
    "\n",
    "- Have a look at the results! The main output file of VASP is called `OUTCAR`. You can have a look and check out the forces on silicon atoms during the calculation. Is there anything interesting about the forces?"
   ]
  },
  {
   "cell_type": "markdown",
   "metadata": {},
   "source": [
    "#### Choosing sufficient plane-wave energy cutoff"
   ]
  },
  {
   "cell_type": "markdown",
   "metadata": {},
   "source": [
    "Choosing an appropriate energy cutoff is crucial for obtaining accurate results with plane-wave codes like VASP.\n",
    "The energy cutoff determines the number of plane waves included in the basis set; higher cutoffs include more plane waves, leading to more accurate but computationally more intensive calculations.\n",
    "\n",
    "The value of the energy cutoff used is already converged. You may, however, try to assure yourself that `300 eV` is indeed the correct value, by running several calculations with differing cutoffs and comparing the total energy.\n",
    "\n",
    "(The truncation of the basis set at a finite cutoff energy will lead to an error in the computed total energy and its derivatives. It is possible to reduce the magnitude of the error in a systematic way by increasing the value of the cutoff energy. In principle, the cutoff energy should be increased until the calculated total energy converges within the required tolerance.)\n",
    "\n",
    "To modify the cutoff, edit the `INCAR` file and change the line\n",
    "```\n",
    "ENCUT = 300.000000\n",
    "```\n",
    "\n",
    "to another value, then rerun the VASP optimization job and note the total energy. Running calculations between 100 and 400 eV should provide good data to assure convergence of the basis set.\n"
   ]
  },
  {
   "cell_type": "markdown",
   "metadata": {},
   "source": [
    "You can also inspect the `POTCAR` file and look for the `ENMAX` parameter. This value is the maximum recommended energy cutoff for the pseudopotential (or PAW potential) provided for silicon."
   ]
  },
  {
   "cell_type": "markdown",
   "metadata": {},
   "source": [
    "| Cutoff (eV)  | Total energy |\n",
    "| --- | --- |\n",
    "|100  | -2.96528183 |\n",
    "|200  | -2.93618063 |\n",
    "|300  | -2.93763127 |\n",
    "|400  | -2.93776050 |\n",
    "|500  | -2.93768436 |\n",
    "|600  | -2.93767240 |"
   ]
  },
  {
   "cell_type": "code",
   "execution_count": null,
   "metadata": {},
   "outputs": [],
   "source": [
    "t = [200, 300, 400, 500, 600]\n",
    "s = [-2.93618063, -2.93763127, -2.93776050, -2.93768436, -2.93767240]\n",
    "\n",
    "fig, ax = plt.subplots()\n",
    "ax.plot(t, s)\n",
    "\n",
    "ax.set(xlabel='Plane wave Cutoff', ylabel='Total Energy',\n",
    "       title='Convergence test')\n",
    "ax.grid()\n",
    "\n",
    "plt.show()"
   ]
  },
  {
   "cell_type": "markdown",
   "metadata": {},
   "source": [
    "If you compare initial and final cell vector lenghts, you will notice that they did not indeed change.\n",
    "The initial structure was already optimized, as you can see in the OUTCOR file in the TOTAL-FORCE section.\n",
    "\n",
    "```\n",
    "POSITION                                       TOTAL-FORCE (eV/Angst)\n",
    " -----------------------------------------------------------------------------------\n",
    "      0.00000      0.00000      0.00000         0.000000      0.000000      0.000000\n",
    "\n",
    "```\n",
    "\n"
   ]
  },
  {
   "cell_type": "markdown",
   "metadata": {},
   "source": [
    "OPTIONAL:\n",
    "\n",
    "Similar convergence analysis could be done for the K-Points set. The k-point mesh must be sufficiently dense to ensure that the forces (and thus phonon frequencies) are well-converged. For silicon's conventional cell (which is cubic with 8 atoms), a good starting point is a 6×6×6 Monkhorst-Pack k-point mesh.\n",
    "\n",
    "We could perform convergence tests by optimizing geometries or calculating phobon frequencies at high-symmetry points using different k-point meshes (e.g., 4×4×4, 6×6×6, 8×8×8) to determine the minimum mesh that provides converged results.\n",
    "\n",
    "To modify the k-points, you need to edit the KPOINTS file in the job directory and replace `8 8 8` with the mesh size requred."
   ]
  },
  {
   "cell_type": "markdown",
   "metadata": {},
   "source": [
    "### 3. Calculating phonon spectrum\n",
    "\n",
    "With forces in the Si cell being essentially zero, we can evaluate phonon modes.\n",
    "In this tutorial we use a **finite displacements approach** implemented in the package Phonopy.\n",
    "You can remind yourself about the concept of lattice dynamics and phonons with this document: https://www.neutron-sciences.org/articles/sfn/pdf/2011/01/sfn201112007.pdf and read about the finite displacement approach here: https://www.neutron-sciences.org/articles/sfn/pdf/2011/01/sfn201112008.pdf.\n",
    "\n",
    "Finally, you can have  look at how it is implemented in Phonopy here: https://phonopy.github.io/phonopy/formulation.html.\n",
    "\n",
    "The finite displacements approach constists of slightly displacing each atom of the unit cell from their equilibrium position, and perform a single-point DFT calculation for each displacement in order to compute the resulting forces, called Hellmann-Feynman forces (HFF). Using the HFF, the force constants of the structures are computed and provide the phonon modes (the eigenfrequencies and the eigenvectors). \n",
    "- Phonopy can propose a minimum number of displacements based on the symetry operation of the unitcell. Use the following cell to generate the displacement."
   ]
  },
  {
   "cell_type": "markdown",
   "metadata": {},
   "source": [
    "Here, we need to use a suprecell (2x2x2 cell). This is required since to capture phonon modes at smaller wave vectors (lower frequencies), you need a larger periodicity than the unit cell offers. The supercell essentially \"scales up\" the periodicity in real space, enabling the capture of phonon modes at lower wave vectors in reciprocal space. Additionally, a supercell allows you to capture longer-range interatomic force constants, which are crucial for accurate phonon calculations, especially for long-wavelength phonons that involve interactions across multiple unit cells.\n",
    "Reducing artificial PBC effects inherent to a single unit cell model will lead to a better approximation to true bulk properties."
   ]
  },
  {
   "cell_type": "code",
   "execution_count": null,
   "metadata": {},
   "outputs": [],
   "source": [
    "from ase.build.supercells import make_supercell\n",
    "atoms=read(relaxation_dir+\"/CONTCAR\") #read relaxed cell\n",
    "\n",
    "M = [[2, 0, 0], [0, 2, 0], [0, 0, 2]]\n",
    "sc=make_supercell(atoms, M)\n",
    "\n",
    "view(sc, viewer='x3d')"
   ]
  },
  {
   "cell_type": "markdown",
   "metadata": {},
   "source": [
    "Now, we will create atomic displacements using Phonopy and write them out as POSCAR files"
   ]
  },
  {
   "cell_type": "code",
   "execution_count": 28,
   "metadata": {},
   "outputs": [],
   "source": [
    "unitcell, optional_structure_info = read_crystal_structure(relaxation_dir+\"/CONTCAR\", interface_mode='vasp') #read the relaxed cell\n",
    "phonon = Phonopy(unitcell, supercell_matrix=[[2, 0, 0], [0, 2, 0], [0, 0, 2]]) #build a 2x2x2 supercell to perform the DFT calculations\n",
    "phonon.generate_displacements(distance=0.03) #generate displacements of 0.03 A around the equilibrium positions\n",
    "supercells = phonon.supercells_with_displacements "
   ]
  },
  {
   "cell_type": "code",
   "execution_count": null,
   "metadata": {},
   "outputs": [],
   "source": [
    "supercells[0].positions"
   ]
  },
  {
   "cell_type": "markdown",
   "metadata": {},
   "source": [
    "Create a new directory for the phonon calculation, and ask ASE to write the displacements files.\n"
   ]
  },
  {
   "cell_type": "code",
   "execution_count": 29,
   "metadata": {},
   "outputs": [],
   "source": [
    "#Function writing the displacement as a series of POSCAR files to be read by VASP.\n",
    "\n",
    "def write_supercells_with_displacements(\n",
    "    supercell, cells_with_displacements, directory, pre_filename=\"POSCAR\", width=3\n",
    "):\n",
    "    ids = np.arange(len(cells_with_displacements), dtype=int) + 1\n",
    "    write_vasp(directory+\"S%s\" % pre_filename, supercell, direct=True)\n",
    "    for i, cell in zip(ids, cells_with_displacements):\n",
    "        filename = directory+\"{pre_filename}-{0:0{width}}\".format(\n",
    "            i, pre_filename=pre_filename, width=width\n",
    "        )\n",
    "        write_vasp(filename, cell, direct=True)\n",
    "\n",
    "phonon_dir='si_phonons/'\n",
    "os.mkdir(phonon_dir)\n",
    "write_supercells_with_displacements(supercell=phonon.supercell, cells_with_displacements=supercells,directory=phonon_dir)"
   ]
  },
  {
   "cell_type": "markdown",
   "metadata": {},
   "source": [
    "\n",
    "Create VASP files for the single-point displacement calculations."
   ]
  },
  {
   "cell_type": "code",
   "execution_count": 30,
   "metadata": {},
   "outputs": [],
   "source": [
    "#Setup VASP for an energy and forces calculation#\n",
    "\n",
    "# Function writing a VASP job script dedicated to the calculation of Hellman-Feynman Forces (HFF). \n",
    "# It launches a VASP run at the Gamma-point only for an array of displacements generated using Phonopy \n",
    "\n",
    "def write_job_HFF(directory,#The directory to write the file  \n",
    "                  label,    #The job name\n",
    "                  Nimg,     #The number of displacement \n",
    "                  nodes,    #The number of requested nodes\n",
    "                  queue):   #The name of the requested queue in the cluster\n",
    "    f = open(directory+'/ILL_hpc_vasp_job_local.sh', \"w\")\n",
    "    f.write(\"\"\"#!/bin/bash\n",
    "\n",
    "#PBS -q \"\"\"+queue+\"\"\"\n",
    "#PBS -N \"\"\"+label+\"\"\"\n",
    "#PBS -l nodes=\"\"\"+nodes+\"\"\":ppn=\"\"\"+queue[-2:]+\"\"\"\n",
    "# if nodes > 1 : FOR THE q.2015_16 queue activate one of the following lines:\n",
    "#export I_MPI_DEVICE=\"rdma:ofa-v2-ib0\" \n",
    "#export I_MPI_DEVICE=\"rdssm:ofa-v2-ib0\"\n",
    "\n",
    "module load intel/14.0.1\n",
    "module load intelmpi/4.1.0.024\n",
    "module load vasp/intelmpi/5.4.1\n",
    "\n",
    "cd $PBS_O_WORKDIR\n",
    "ulimit -s unlimited\n",
    "\n",
    "for i in {001..\"\"\"+f'{Nimg:03d}'+\"\"\"}\n",
    "do\n",
    "cp POSCAR-$i POSCAR\n",
    "\n",
    "mpirun vasp_std > vasp_job.log\n",
    "\n",
    "wait\n",
    "\n",
    "cp vasprun.xml vasprun-$i.xml\n",
    "rm POSCAR OUTCAR\n",
    "\n",
    "done\n",
    "\n",
    "#End of script (make sure line before this gets run)\"\"\")\n",
    "    \n",
    "    f.close()\n",
    "\n",
    "calc=Vasp(\n",
    "    directory=phonon_dir,      \n",
    "    label='Si_phonon',\n",
    "    # Convergence parameters\n",
    "    prec='Accurate',# Vasp precision tag\n",
    "    encut=500,      # energy cutoff for the plane-wave basis set in eV\n",
    "    ediff=1e-7,     # Relax electronic structure until 5e-7 eV energy change between 2 electronic loop\n",
    "    # Job settings\n",
    "    xc=\"pbe\",       # Use the PBE exchange and correlation functional\n",
    "    ibrion=-1,      # No ionic relaxation\n",
    "    # K-point grid settings\n",
    "    kpts=[3,3,3],   # Kpoint grid\n",
    "    gamma=True,     # Gamma-centered grid\n",
    "    # Output settings\n",
    "    lwave=False,    # Do not save wave fuction files (large files)\n",
    ")\n",
    "#Write the VASP job script#\n",
    "write_job_HFF(Nimg=len(phonon.displacements),directory=phonon_dir,label='BaTiO3-xHx_phonon_small_cell',nodes='1',queue='q.2015_16')\n",
    "calc.write_input(atoms)"
   ]
  },
  {
   "cell_type": "markdown",
   "metadata": {},
   "source": [
    "Here, we use similar precision for running phonon calculations as in the geometry optimization. However, to maintain the same k-point density as the primitive cell, we need to scale the k-point mesh inversely with the supercell dimensions. \n",
    "\n",
    "For the 2x2x2 supercell used, the will use a 3x3x3 mesh."
   ]
  },
  {
   "cell_type": "markdown",
   "metadata": {},
   "source": [
    "The above script also created another submission script in the job directory, which you will now submit to the cluster queue.\n",
    "\n",
    "`$ cd si_phonons`\n",
    "\n",
    "`$ qsub ILL_hpc_vasp_job_local.sh`"
   ]
  },
  {
   "cell_type": "markdown",
   "metadata": {},
   "source": [
    "Once the calculation is finished (~5min), copy back the phonon calculation directory `si_phonons` to your home folder.\n",
    "You may delete the large `CHG`, `CHGCAR` and `POTCAR` files form the directory before copying.\n",
    "\n",
    "Now, let's use Phonopy again and parse the results using `parse_set_of_forces()` and compute the force constants using `phonon.produce_force_constants()`."
   ]
  },
  {
   "cell_type": "code",
   "execution_count": null,
   "metadata": {},
   "outputs": [],
   "source": [
    "vasp_results=parse_set_of_forces(num_atoms=phonon.dataset['natom'], forces_filenames=['si_phonons_222'+'/vasprun-'+'{:03.0f}'.format(i)+'.xml' for i in np.arange(1,len(phonon.displacements)+1)], use_expat=True, verbose=True)\n",
    "phonon.forces=vasp_results['forces']\n",
    "phonon.produce_force_constants()"
   ]
  },
  {
   "cell_type": "markdown",
   "metadata": {},
   "source": [
    "- Calculate the vDOS using Phonopy. Here, we use `run_projected_dos()` to separate the contribution from each species."
   ]
  },
  {
   "cell_type": "code",
   "execution_count": 32,
   "metadata": {},
   "outputs": [],
   "source": [
    "phonon.run_mesh([15, 15, 15], with_eigenvectors=True, is_mesh_symmetry=False)"
   ]
  },
  {
   "cell_type": "code",
   "execution_count": null,
   "metadata": {},
   "outputs": [],
   "source": [
    "\n",
    "phonon.run_projected_dos(#sigma=0.05,\n",
    "                         freq_min=None,\n",
    "                         freq_max=None,\n",
    "                         freq_pitch=0.05,\n",
    "                         use_tetrahedron_method=True,\n",
    "                         direction=None,\n",
    "                         xyz_projection=False,\n",
    "    )\n"
   ]
  },
  {
   "cell_type": "code",
   "execution_count": null,
   "metadata": {},
   "outputs": [],
   "source": [
    "vdos=phonon.get_projected_dos_dict()"
   ]
  },
  {
   "cell_type": "markdown",
   "metadata": {},
   "source": [
    "- And finnaly, we can plot the results"
   ]
  },
  {
   "cell_type": "code",
   "execution_count": null,
   "metadata": {},
   "outputs": [],
   "source": [
    "%matplotlib inline\n",
    "Si_indices=np.where(np.array(phonon.unitcell.symbols)=='Si')[0]\n",
    "\n",
    "figvdos, ax=plt.subplots(1,1,figsize=(8,4),dpi=150)\n",
    "ax.plot(vdos['frequency_points']*4.136, np.sum(vdos['projected_dos'][Si_indices,:],axis=0),label='Si')\n",
    "\n",
    "ax.set_ylabel('vDOS')\n",
    "ax.set_xlabel('energy (meV)')\n",
    "ax.legend()"
   ]
  }
 ],
 "metadata": {
  "kernelspec": {
   "display_name": "vasp",
   "language": "python",
   "name": "python3"
  },
  "language_info": {
   "codemirror_mode": {
    "name": "ipython",
    "version": 3
   },
   "file_extension": ".py",
   "mimetype": "text/x-python",
   "name": "python",
   "nbconvert_exporter": "python",
   "pygments_lexer": "ipython3",
   "version": "3.11.10"
  }
 },
 "nbformat": 4,
 "nbformat_minor": 4
}
