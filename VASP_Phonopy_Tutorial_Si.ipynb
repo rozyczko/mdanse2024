{
 "cells": [
  {
   "cell_type": "markdown",
   "metadata": {},
   "source": [
    "# Tutorial for relaxation and vibration calculations using VASP and Phonopy.\n",
    "## Introduction \n",
    "\n",
    "Welcome to this tutorial on the use of VASP and Phonopy to calculate phonon modes.\n",
    "\n",
    "This first tutorial will guide you through a simple case of a $\\mathsf{Si}$ crystal.<br>\n",
    "\n",
    "The tutorial uses a Python interface to write and read inputs/output files from VASP, called Atomic Simulation Environment (ASE) (https://wiki.fysik.dtu.dk/ase/index.html).\n",
    "While the inputs files are created using ASE and the following python scripts in this notebook, VASP is executed on the ILL  high-performance computing (HPC) cluster called `masterp`.\n",
    "You will also learn how to submit jobs to this cluster.\n",
    "\n",
    "If not already done, please copy this Jupyer file (.ipynb) to your home directory."
   ]
  },
  {
   "cell_type": "markdown",
   "metadata": {},
   "source": [
    "Let us start with importing all the necessary Python modules. We need both the numerical libraries, ASE and Phonopy packages.\n",
    "Execute the following cell by selecting it and clicking the $ \\blacktriangleright $ symbol in the toolbar."
   ]
  },
  {
   "cell_type": "code",
   "execution_count": 2,
   "metadata": {},
   "outputs": [
    {
     "name": "stdout",
     "output_type": "stream",
     "text": [
      "env: VASP_PP_PATH=.\n"
     ]
    }
   ],
   "source": [
    "import os\n",
    "import numpy as np\n",
    "import matplotlib.pyplot as plt\n",
    "from ase import Atoms\n",
    "from ase.build import bulk\n",
    "from ase.visualize import view\n",
    "from ase.calculators.vasp import Vasp\n",
    "from ase.io import read, write\n",
    "from phonopy import Phonopy, load\n",
    "from phonopy.structure.atoms import PhonopyAtoms\n",
    "from phonopy.interface.calculator import read_crystal_structure\n",
    "from phonopy.interface.vasp import parse_set_of_forces, write_vasp\n",
    "from phonopy.phonon.band_structure import get_band_qpoints_and_path_connections\n",
    "# %env VASP_PP_PATH=/nethome/ds/finel/MDANSE_School_Hands-on_VASP_Phonopy/\n",
    "%env VASP_PP_PATH=."
   ]
  },
  {
   "cell_type": "markdown",
   "metadata": {},
   "source": [
    "## Example 1: Si crystal"
   ]
  },
  {
   "cell_type": "markdown",
   "metadata": {},
   "source": [
    "### 1. Preparing the structure\n",
    "\n",
    "First, we will create a model of silicon crystal, display it and perform simple geometry optimization and phonon calculations using VASP and Phonopy.\n",
    "\n",
    "ASE allows us to quickly generate structures - both molecular and periodic.\n",
    "\n",
    "Here, we just tell ASE to create a silicon lattice for us."
   ]
  },
  {
   "cell_type": "code",
   "execution_count": 3,
   "metadata": {},
   "outputs": [],
   "source": [
    "si_conventional = bulk('Si', 'fcc', a=5.43, cubic=True)\n",
    "si_primitive = bulk('Si', 'fcc', a=5.43)"
   ]
  },
  {
   "cell_type": "markdown",
   "metadata": {},
   "source": [
    "We can visualize the cell using one of several tools which come with ASE"
   ]
  },
  {
   "cell_type": "code",
   "execution_count": null,
   "metadata": {},
   "outputs": [],
   "source": [
    "view(si_conventional, viewer='x3d')"
   ]
  },
  {
   "cell_type": "markdown",
   "metadata": {},
   "source": [
    "You can rotate the structure and zoom in and out using your mouse."
   ]
  },
  {
   "cell_type": "markdown",
   "metadata": {},
   "source": [
    "We can also see details of the generated structure. Let's check unit cell lengths in Angstrom."
   ]
  },
  {
   "cell_type": "code",
   "execution_count": 4,
   "metadata": {},
   "outputs": [
    {
     "data": {
      "text/plain": [
       "Cell([5.43, 5.43, 5.43])"
      ]
     },
     "execution_count": 4,
     "metadata": {},
     "output_type": "execute_result"
    }
   ],
   "source": [
    "si_conventional.get_cell()"
   ]
  },
  {
   "cell_type": "markdown",
   "metadata": {},
   "source": [
    "Fractional atomic positions within the cell can be queried with `get_positions()` method. We have 4 Si atoms per conventional cell, so we will get 4 sets of coordinates."
   ]
  },
  {
   "cell_type": "code",
   "execution_count": 5,
   "metadata": {},
   "outputs": [
    {
     "data": {
      "text/plain": [
       "array([[0.   , 0.   , 0.   ],\n",
       "       [0.   , 2.715, 2.715],\n",
       "       [2.715, 0.   , 2.715],\n",
       "       [2.715, 2.715, 0.   ]])"
      ]
     },
     "execution_count": 5,
     "metadata": {},
     "output_type": "execute_result"
    }
   ],
   "source": [
    "si_conventional.get_positions()"
   ]
  },
  {
   "cell_type": "markdown",
   "metadata": {},
   "source": [
    "Similar check can be done for the primitive cell."
   ]
  },
  {
   "cell_type": "code",
   "execution_count": null,
   "metadata": {},
   "outputs": [],
   "source": [
    "view(si_primitive, viewer='x3d')"
   ]
  },
  {
   "cell_type": "code",
   "execution_count": null,
   "metadata": {},
   "outputs": [],
   "source": [
    "si_primitive.get_cell()"
   ]
  },
  {
   "cell_type": "code",
   "execution_count": null,
   "metadata": {},
   "outputs": [],
   "source": [
    "si_primitive.get_positions()"
   ]
  },
  {
   "cell_type": "markdown",
   "metadata": {},
   "source": [
    "A more sophisticated optional viewing engine is NGLView."
   ]
  },
  {
   "cell_type": "code",
   "execution_count": null,
   "metadata": {},
   "outputs": [],
   "source": [
    "try:\n",
    "    import nglview\n",
    "except ImportError:\n",
    "    !pip install nglview\n",
    "    import nglview\n",
    "view(si_primitive, viewer='ngl')"
   ]
  },
  {
   "cell_type": "markdown",
   "metadata": {},
   "source": [
    "### 2. Relaxing the structure (geometry optimization)"
   ]
  },
  {
   "cell_type": "markdown",
   "metadata": {},
   "source": [
    "Phonon calculations need to be performed on a fully optimized structure, i.e. forces on atoms should be as close to zero as possible. Geometry optimization determines location of atoms in a crystal (or in a molecule) at 0K. The accuracy of the relaxation needs to be high in order to obtain reliable phonon frequencies.\n",
    "\n",
    "Here, we will use ASE to construct the VASP input files for relaxation. First, create a directory where job files will be kept. This will help in maintaining clean project space between runs."
   ]
  },
  {
   "cell_type": "code",
   "execution_count": 6,
   "metadata": {},
   "outputs": [],
   "source": [
    "relaxation_dir='relaxation_si/'"
   ]
  },
  {
   "cell_type": "markdown",
   "metadata": {},
   "source": [
    "In order to properly define the VASP job, we need to pass a number of parameters describing how we want to run the calculation.\n",
    "\n",
    "The keyword `PREC` tells VASP how to set default values for various convergence parameters (energy, FFT grid, etc.). Setting this parameter to `Accurate` means VASP is going to help achieving accurate forces and then more accurate phonon spectrum.\n",
    "\n",
    "The kinetic energy cutoff specifies the energy cutoff for the plane-wave basis set in eV. Here, we will start with `300` eV.\n",
    "\n",
    "The SCF loop will be considered converged, if the difference between current and previous energy will be less than `EDIFF` eV. Here, we choose 5.0e-7 eV per atom.\n",
    "\n",
    "We also want to achieve convergence for atomic forces - they should be less than 1e-5 eV/A. The negative sign of `EDIFFG` parameter means that the relaxation is stopped when the norms of all the forces are smaller than |ediffg|, which is a more convenient setting.\n",
    "\n",
    "We will use the standard `PBE` functional, well suited for first order properties like geometries.\n",
    "\n",
    "Specifying `IBRION` and `ISIF` lets us tweak the relaxation algorithm - we want to perform a relaxation calculation (`IBRION!=0`) and vary atomic positions and cell volume at each step.\n",
    "\n",
    "For the k-point grid, we want to use a large number of points in all directions. Hence, we chose `8,8,8`. The grid should be centered on the Γ-point.\n",
    "\n",
    "Lastly, we should not store very large, unneeded files after the job completes, so we need to tell VASP to delete those.\n"
   ]
  },
  {
   "cell_type": "code",
   "execution_count": null,
   "metadata": {},
   "outputs": [],
   "source": [
    "calc=Vasp(\n",
    "    directory=relaxation_dir,      \n",
    "    label='Si_relaxation',\n",
    "    # Convergence parameters\n",
    "    prec='Accurate',# Vasp precision tag\n",
    "    encut=300,      # energy cutoff for the plane-wave basis set in eV\n",
    "    ediff=5e-7,     # Relax electronic structure until 5e-7 eV energy change between 2 electronic loop\n",
    "    ediffg=-1e-5,   # Relax ionic forces below 1e-5 eV/A\n",
    "    # Job settings\n",
    "    xc=\"pbe\",       # Use the PBE exchange and correlation functional\n",
    "    ibrion=1,       # Ionic relaxation\n",
    "    isif=3,         # Relax positions and cell volume\n",
    "    # K-point grid settings\n",
    "    kpts=[8,8,8],   # Kpoint grid\n",
    "    gamma=True,     # Gamma-centered grid\n",
    "    # Output settings\n",
    "    lwave=False,    # Do not save wave fuction files (large files)\n",
    ")"
   ]
  },
  {
   "cell_type": "code",
   "execution_count": 8,
   "metadata": {},
   "outputs": [],
   "source": [
    "calc.write_input(si_primitive)"
   ]
  },
  {
   "cell_type": "code",
   "execution_count": 9,
   "metadata": {},
   "outputs": [],
   "source": [
    "calc.write_input(si_conventional)"
   ]
  },
  {
   "cell_type": "markdown",
   "metadata": {},
   "source": [
    "Now you can examine the content of `relaxation_si` subdirectory."
   ]
  },
  {
   "cell_type": "code",
   "execution_count": 11,
   "metadata": {},
   "outputs": [
    {
     "name": "stdout",
     "output_type": "stream",
     "text": [
      "relaxation_si\\ase-sort.dat\n",
      "relaxation_si\\INCAR\n",
      "relaxation_si\\KPOINTS\n",
      "relaxation_si\\POSCAR\n",
      "relaxation_si\\POTCAR\n"
     ]
    }
   ],
   "source": [
    "import glob\n",
    "print(\"\\n\".join(glob.glob(\"relaxation_si/*\")))"
   ]
  },
  {
   "cell_type": "markdown",
   "metadata": {},
   "source": [
    "The four files with names in capital letters are VASP input files.\n",
    "\n",
    "`INCAR` lists parameters used in the energy and force calculations.\n",
    "`KPOINTS` describes the kpoint grid used.\n",
    "`POSCAR` describes the unit cell, atom types and their positions.\n",
    "`POTCAR` contains pseudopotentials for each atomic species.\n",
    "\n",
    "All four files are required for the calculation we are about to run.\n"
   ]
  },
  {
   "cell_type": "markdown",
   "metadata": {},
   "source": [
    "Now it is time to run the VASP calculation. For this, we need to submit the job to the cluster:<br>\n",
    "\n",
    "a) Connect to the cluster login node: open a terminal and log in with: `$ ssh <your_username>@masterp.ill.fr`.<br>\n",
    "\n",
    "b) Check that the queue you want to submit to has nodes availables using the `qload` command. If no nodes are available, change the queue in the submit script `vasp.sh`.\n",
    "c) Copy your job directory `relaxation_si` to the common folder, accessible from the cluster. This folder is called `MyHome` and is linked to directly in your VISA home directory. Use `$cp -r ~/relaxation_si MyHome`\n",
    "\n",
    "d) Copy your job directory `relaxation_si` to the cluster. Your VISA home folder is mounted on the cluster login node, and it is called as your username. However, the compute nodes don't have access to your home folder, so **you must copy your job directory to the cluster**.<br>\n",
    "From the cluster login node, use `$ cp -r /nethome/notill/<your_username_initial>/<your_username>/relaxation_si ~<your_username>`.<br>\n",
    "\n",
    "E.g. for `John Smith`, this would read `$ cp -r /nethome/notill/s/smith/relaxation_si ~/smith`.<br>\n",
    "\n",
    "e) Launch the job. From the job directory on the cluster (you can move to your job directory using `$ cd relaxation_si`) launch the job using `$ qsub ILL_hpc_vasp_job_local.sh`. You can then monitor your job with `$ qstat`.\n",
    "\n",
    "f) The calculation should take aprrox. 1 min on 1x8 cpus. Copy back the job folder to your home directory using\n",
    "`$ cp -rf relaxation_si/* /nethome/notill/<your_username_initial>/<your_username>`.\n",
    "\n",
    "\n",
    "- Have a look at the results! The main output file of VASP is called `OUTCAR`. You can have a look and check out the forces on silicon atoms during the calculation. Is there anything interesting about the forces?"
   ]
  },
  {
   "cell_type": "markdown",
   "metadata": {},
   "source": [
    "#### Choosing sufficient plane-wave energy cutoff"
   ]
  },
  {
   "cell_type": "markdown",
   "metadata": {},
   "source": [
    "The value of the energy cutoff used is already converged. You may, however, try to assure yourself that `300 eV` is indeed the correct value, by running several calculations with differing cutoffs and comparing the total energy.\n",
    "\n",
    "(The truncation of the basis set at a finite cutoff energy will lead to an error in the computed total energy and its derivatives. It is possible to reduce the magnitude of the error in a systematic way by increasing the value of the cutoff energy. In principle, the cutoff energy should be increased until the calculated total energy converges within the required tolerance.)\n",
    "\n",
    "To modify the cutoff, edit the `INCAR` file and change the line\n",
    "```\n",
    "ENCUT = 300.000000\n",
    "```\n",
    "\n",
    "to another value, then rerun the VASP optimization job and note the total energy. Running calculations between 50 and 300 eV should provide good data to assure convergence of the basis set.\n"
   ]
  },
  {
   "cell_type": "markdown",
   "metadata": {},
   "source": [
    "| Cutoff (eV)  | Total energy |\n",
    "| --- | --- |\n",
    "|100  | -2.96528183 |\n",
    "|200  | -2.93618063 |\n",
    "|300  | -2.93763127 |\n",
    "|400  | -2.93776050 |\n",
    "|500  | -2.93768436 |\n",
    "|600  | -2.93767240 |"
   ]
  },
  {
   "cell_type": "code",
   "execution_count": 13,
   "metadata": {},
   "outputs": [
    {
     "data": {
      "image/png": "[encoded data removed]",
      "text/plain": [
       "<Figure size 640x480 with 1 Axes>"
      ]
     },
     "metadata": {},
     "output_type": "display_data"
    }
   ],
   "source": [
    "t = [200, 300, 400, 500, 600]\n",
    "s = [-2.93618063, -2.93763127, -2.93776050, -2.93768436, -2.93767240]\n",
    "\n",
    "fig, ax = plt.subplots()\n",
    "ax.plot(t, s)\n",
    "\n",
    "ax.set(xlabel='Plane wave Cutoff', ylabel='Total Energy',\n",
    "       title='Convergence test')\n",
    "ax.grid()\n",
    "\n",
    "plt.show()"
   ]
  },
  {
   "cell_type": "markdown",
   "metadata": {},
   "source": [
    "If you compare initial and final cell vector lenghts, you will notice that they did not indeed change.\n",
    "The initial structure was already optimized, as you can see in the OUTCOR file in the TOTAL-FORCE section.\n",
    "\n",
    "```\n",
    "POSITION                                       TOTAL-FORCE (eV/Angst)\n",
    " -----------------------------------------------------------------------------------\n",
    "      0.00000      0.00000      0.00000         0.000000      0.000000      0.000000\n",
    "\n",
    "```\n",
    "\n"
   ]
  },
  {
   "cell_type": "markdown",
   "metadata": {},
   "source": [
    "### 3. Calculating phonon spectrum\n",
    "\n",
    "With forces in the Si cell being essentially zero, we can evaluate phonon modes.\n",
    "In this tutorial we use a **finite displacements approach** implemented in the package Phonopy.\n",
    "You can remind yourself about the concept of lattice dynamics and phonons with this document: https://www.neutron-sciences.org/articles/sfn/pdf/2011/01/sfn201112007.pdf and read about the finite displacement approach here: https://www.neutron-sciences.org/articles/sfn/pdf/2011/01/sfn201112008.pdf.\n",
    "\n",
    "Finally, you can have  look at how it is implemented in Phonopy here: https://phonopy.github.io/phonopy/formulation.html.\n",
    "\n",
    "The finite displacements approach constists of slightly displacing each atom of the unit cell from their equilibrium position, and perform a single-point DFT calculation for each displacement in order to compute the resulting forces, called Hellmann-Feynman forces (HFF). Using the HFF, the force constants of the structures are computed and provide the phonon modes (the eigenfrequencies and the eigenvectors). \n",
    "- Phonopy can propose a minimum number of displacements based on the symetry operation of the unitcell. Use the following cell to generate the displacement."
   ]
  },
  {
   "cell_type": "markdown",
   "metadata": {},
   "source": [
    "Here, we need to use a suprecell (2x2x2 cell). This is required since to capture phonon modes at smaller wave vectors (lower frequencies), you need a larger periodicity than the unit cell offers. The supercell essentially \"scales up\" the periodicity in real space, enabling the capture of phonon modes at lower wave vectors in reciprocal space. Additionally, a supercell allows you to capture longer-range interatomic force constants, which are crucial for accurate phonon calculations, especially for long-wavelength phonons that involve interactions across multiple unit cells.\n",
    "Reducing artificial PBC effects inherent to a single unit cell model is another reason to use a larger supercell for a better approximation to true bulk properties."
   ]
  },
  {
   "cell_type": "code",
   "execution_count": null,
   "metadata": {},
   "outputs": [],
   "source": [
    "from ase.build.supercells import make_supercell\n",
    "atoms=read(relaxation_dir+\"/CONTCAR\") #read relaxed cell\n",
    "\n",
    "M = [[2, 0, 0], [0, 2, 0], [0, 0, 2]]\n",
    "sc=make_supercell(atoms, M)\n",
    "\n",
    "view(sc, viewer='x3d')"
   ]
  },
  {
   "cell_type": "code",
   "execution_count": 34,
   "metadata": {},
   "outputs": [],
   "source": [
    "# Create the atomic displacement using Phonopy and write them out as POSCAR files #\n",
    "unitcell, optional_structure_info = read_crystal_structure(relaxation_dir+\"/CONTCAR\", interface_mode='vasp') #read the relaxed cell\n",
    "phonon = Phonopy(unitcell, supercell_matrix=[[2, 0, 0], [0, 2, 0], [0, 0, 2]]) #build a 2x2x2 supercell to perform the DFT calculations\n",
    "phonon.generate_displacements(distance=0.03) #generate displacements of 0.03 A around the equilibrium positions\n",
    "supercells = phonon.supercells_with_displacements "
   ]
  },
  {
   "cell_type": "code",
   "execution_count": null,
   "metadata": {},
   "outputs": [],
   "source": [
    "supercells[0].positions"
   ]
  },
  {
   "cell_type": "markdown",
   "metadata": {},
   "source": [
    "Create a new directory for the phonon calculation, and ask ASE to write the displacements files.\n"
   ]
  },
  {
   "cell_type": "code",
   "execution_count": 28,
   "metadata": {},
   "outputs": [],
   "source": [
    "#Function writing the displacement as a series of POSCAR files to be read by VASP.\n",
    "\n",
    "def write_supercells_with_displacements(\n",
    "    supercell, cells_with_displacements, directory, pre_filename=\"POSCAR\", width=3\n",
    "):\n",
    "    ids = np.arange(len(cells_with_displacements), dtype=int) + 1\n",
    "    write_vasp(directory+\"S%s\" % pre_filename, supercell, direct=True)\n",
    "    for i, cell in zip(ids, cells_with_displacements):\n",
    "        filename = directory+\"{pre_filename}-{0:0{width}}\".format(\n",
    "            i, pre_filename=pre_filename, width=width\n",
    "        )\n",
    "        write_vasp(filename, cell, direct=True)\n",
    "\n",
    "phonon_dir='si_phonons/'\n",
    "write_supercells_with_displacements(supercell=phonon.supercell, cells_with_displacements=supercells,directory=phonon_dir)"
   ]
  },
  {
   "cell_type": "markdown",
   "metadata": {},
   "source": [
    "\n",
    "Create VASP files for the single-point displacement calculations."
   ]
  },
  {
   "cell_type": "code",
   "execution_count": 39,
   "metadata": {},
   "outputs": [],
   "source": [
    "#Setup VASP for an energy and forces calculation#\n",
    "\n",
    "# Function writing a VASP job script dedicated to the calculation of Hellman-Feynman Forces (HFF). \n",
    "# It launches a VASP run at the Gamma-point only for an array of displacements generated using Phonopy \n",
    "\n",
    "def write_job_HFF(directory,#The directory to write the file  \n",
    "                  label,    #The job name\n",
    "                  Nimg,     #The number of displacement \n",
    "                  nodes,    #The number of requested nodes\n",
    "                  queue):   #The name of the requested queue in the cluster\n",
    "    f = open(directory+'/ILL_hpc_vasp_job_local.sh', \"w\")\n",
    "    f.write(\"\"\"#!/bin/bash\n",
    "\n",
    "#PBS -q \"\"\"+queue+\"\"\"\n",
    "#PBS -N \"\"\"+label+\"\"\"\n",
    "#PBS -l nodes=\"\"\"+nodes+\"\"\":ppn=\"\"\"+queue[-2:]+\"\"\"\n",
    "# if nodes > 1 : FOR THE q.2015_16 queue activate one of the following lines:\n",
    "#export I_MPI_DEVICE=\"rdma:ofa-v2-ib0\" \n",
    "#export I_MPI_DEVICE=\"rdssm:ofa-v2-ib0\"\n",
    "\n",
    "module load intel/14.0.1\n",
    "module load intelmpi/4.1.0.024\n",
    "module load vasp/intelmpi/5.4.1\n",
    "\n",
    "cd $PBS_O_WORKDIR\n",
    "ulimit -s unlimited\n",
    "\n",
    "for i in {001..\"\"\"+f'{Nimg:03d}'+\"\"\"}\n",
    "do\n",
    "cp POSCAR-$i POSCAR\n",
    "\n",
    "mpirun vasp_std > vasp_job.log\n",
    "\n",
    "wait\n",
    "\n",
    "cp vasprun.xml vasprun-$i.xml\n",
    "rm POSCAR OUTCAR\n",
    "\n",
    "done\n",
    "\n",
    "#End of script (make sure line before this gets run)\"\"\")\n",
    "    \n",
    "    f.close()\n",
    "\n",
    "calc=Vasp(\n",
    "    directory=phonon_dir,      \n",
    "    label='Si_phonon',\n",
    "    # Convergence parameters\n",
    "    prec='Accurate',# Vasp precision tag\n",
    "    encut=500,      # energy cutoff for the plane-wave basis set in eV\n",
    "    ediff=1e-7,     # Relax electronic structure until 5e-7 eV energy change between 2 electronic loop\n",
    "    # Job settings\n",
    "    xc=\"pbe\",       # Use the PBE exchange and correlation functional\n",
    "    ibrion=-1,      # No ionic relaxation\n",
    "    # K-point grid settings\n",
    "    kpts=[8,8,8],   # Kpoint grid\n",
    "    gamma=True,     # Gamma-centered grid\n",
    "    # Output settings\n",
    "    lwave=False,    # Do not save wave fuction files (large files)\n",
    ")\n",
    "#Write the VASP job script#\n",
    "write_job_HFF(Nimg=len(phonon.displacements),directory=phonon_dir,label='BaTiO3-xHx_phonon_small_cell',nodes='1',queue='q.2015_16')\n",
    "calc.write_input(atoms)"
   ]
  },
  {
   "cell_type": "markdown",
   "metadata": {},
   "source": [
    "Once the calculation is finished (~1min), copy back your phonon calculation directory to your home folder. Then, let's use again Phonopy to parse the results using `parse_set_of_forces()` and compute the force constants using `phonon.produce_force_constants()`."
   ]
  },
  {
   "cell_type": "code",
   "execution_count": 41,
   "metadata": {},
   "outputs": [
    {
     "name": "stdout",
     "output_type": "stream",
     "text": [
      "counter (file index): 1 "
     ]
    },
    {
     "ename": "RuntimeError",
     "evalue": "Could not parse \"<_io.BufferedReader name='si_phonons//vasprun-001.xml'>\". Probably this vasprun.xml is broken or some value diverges. Check this calculation carefully before sending questions to the phonopy mailing list.",
     "output_type": "error",
     "traceback": [
      "\u001b[1;31m---------------------------------------------------------------------------\u001b[0m",
      "\u001b[1;31mExpatError\u001b[0m                                Traceback (most recent call last)",
      "File \u001b[1;32mc:\\Users\\piotrrozyczko\\.conda\\envs\\mdanse\\Lib\\site-packages\\phonopy\\interface\\vasp.py:159\u001b[0m, in \u001b[0;36m_get_forces_points_and_energy\u001b[1;34m(fp, use_expat, filename)\u001b[0m\n\u001b[0;32m    158\u001b[0m \u001b[38;5;28;01mtry\u001b[39;00m:\n\u001b[1;32m--> 159\u001b[0m     forces \u001b[38;5;241m=\u001b[39m \u001b[43mvasprun\u001b[49m\u001b[38;5;241;43m.\u001b[39;49m\u001b[43mread_forces\u001b[49m\u001b[43m(\u001b[49m\u001b[43m)\u001b[49m\n\u001b[0;32m    160\u001b[0m     points \u001b[38;5;241m=\u001b[39m vasprun\u001b[38;5;241m.\u001b[39mread_points()\n",
      "File \u001b[1;32mc:\\Users\\piotrrozyczko\\.conda\\envs\\mdanse\\Lib\\site-packages\\phonopy\\interface\\vasp.py:632\u001b[0m, in \u001b[0;36mVasprun.read_forces\u001b[1;34m(self)\u001b[0m\n\u001b[0;32m    631\u001b[0m \u001b[38;5;28;01mif\u001b[39;00m \u001b[38;5;28mself\u001b[39m\u001b[38;5;241m.\u001b[39m_use_expat:\n\u001b[1;32m--> 632\u001b[0m     \u001b[38;5;28;01mreturn\u001b[39;00m \u001b[38;5;28;43mself\u001b[39;49m\u001b[38;5;241;43m.\u001b[39;49m\u001b[43m_parse_expat_vasprun_xml\u001b[49m\u001b[43m(\u001b[49m\u001b[43mtarget\u001b[49m\u001b[38;5;241;43m=\u001b[39;49m\u001b[38;5;124;43m\"\u001b[39;49m\u001b[38;5;124;43mforces\u001b[39;49m\u001b[38;5;124;43m\"\u001b[39;49m\u001b[43m)\u001b[49m\n\u001b[0;32m    633\u001b[0m \u001b[38;5;28;01melse\u001b[39;00m:\n",
      "File \u001b[1;32mc:\\Users\\piotrrozyczko\\.conda\\envs\\mdanse\\Lib\\site-packages\\phonopy\\interface\\vasp.py:773\u001b[0m, in \u001b[0;36mVasprun._parse_expat_vasprun_xml\u001b[1;34m(self, target)\u001b[0m\n\u001b[0;32m    772\u001b[0m \u001b[38;5;28;01melse\u001b[39;00m:\n\u001b[1;32m--> 773\u001b[0m     \u001b[38;5;28;01mreturn\u001b[39;00m \u001b[38;5;28;43mself\u001b[39;49m\u001b[38;5;241;43m.\u001b[39;49m\u001b[43m_parse_by_expat\u001b[49m\u001b[43m(\u001b[49m\u001b[38;5;28;43mself\u001b[39;49m\u001b[38;5;241;43m.\u001b[39;49m\u001b[43m_fileptr\u001b[49m\u001b[43m,\u001b[49m\u001b[43m \u001b[49m\u001b[43mtarget\u001b[49m\u001b[38;5;241;43m=\u001b[39;49m\u001b[43mtarget\u001b[49m\u001b[43m)\u001b[49m\n",
      "File \u001b[1;32mc:\\Users\\piotrrozyczko\\.conda\\envs\\mdanse\\Lib\\site-packages\\phonopy\\interface\\vasp.py:783\u001b[0m, in \u001b[0;36mVasprun._parse_by_expat\u001b[1;34m(self, fileptr, target)\u001b[0m\n\u001b[0;32m    782\u001b[0m \u001b[38;5;28;01mtry\u001b[39;00m:\n\u001b[1;32m--> 783\u001b[0m     \u001b[38;5;28;43mself\u001b[39;49m\u001b[38;5;241;43m.\u001b[39;49m\u001b[43m_vasprun_expat\u001b[49m\u001b[38;5;241;43m.\u001b[39;49m\u001b[43mparse\u001b[49m\u001b[43m(\u001b[49m\u001b[43m)\u001b[49m\n\u001b[0;32m    784\u001b[0m \u001b[38;5;28;01mexcept\u001b[39;00m xml\u001b[38;5;241m.\u001b[39mparsers\u001b[38;5;241m.\u001b[39mexpat\u001b[38;5;241m.\u001b[39mExpatError:\n",
      "File \u001b[1;32mc:\\Users\\piotrrozyczko\\.conda\\envs\\mdanse\\Lib\\site-packages\\phonopy\\interface\\vasp.py:907\u001b[0m, in \u001b[0;36mVasprunxmlExpat.parse\u001b[1;34m(self)\u001b[0m\n\u001b[0;32m    906\u001b[0m \u001b[38;5;250m\u001b[39m\u001b[38;5;124;03m\"\"\"Parse file pointer of vasprun.xml.\"\"\"\u001b[39;00m\n\u001b[1;32m--> 907\u001b[0m \u001b[38;5;28;43mself\u001b[39;49m\u001b[38;5;241;43m.\u001b[39;49m\u001b[43m_p\u001b[49m\u001b[38;5;241;43m.\u001b[39;49m\u001b[43mParseFile\u001b[49m\u001b[43m(\u001b[49m\u001b[38;5;28;43mself\u001b[39;49m\u001b[38;5;241;43m.\u001b[39;49m\u001b[43m_fileptr\u001b[49m\u001b[43m)\u001b[49m\n",
      "\u001b[1;31mExpatError\u001b[0m: no element found: line 11, column 0",
      "\nThe above exception was the direct cause of the following exception:\n",
      "\u001b[1;31mRuntimeError\u001b[0m                              Traceback (most recent call last)",
      "Cell \u001b[1;32mIn[41], line 1\u001b[0m\n\u001b[1;32m----> 1\u001b[0m vasp_results\u001b[38;5;241m=\u001b[39m\u001b[43mparse_set_of_forces\u001b[49m\u001b[43m(\u001b[49m\u001b[43mnum_atoms\u001b[49m\u001b[38;5;241;43m=\u001b[39;49m\u001b[43mphonon\u001b[49m\u001b[38;5;241;43m.\u001b[39;49m\u001b[43mdataset\u001b[49m\u001b[43m[\u001b[49m\u001b[38;5;124;43m'\u001b[39;49m\u001b[38;5;124;43mnatom\u001b[39;49m\u001b[38;5;124;43m'\u001b[39;49m\u001b[43m]\u001b[49m\u001b[43m,\u001b[49m\u001b[43m \u001b[49m\u001b[43mforces_filenames\u001b[49m\u001b[38;5;241;43m=\u001b[39;49m\u001b[43m[\u001b[49m\u001b[43mphonon_dir\u001b[49m\u001b[38;5;241;43m+\u001b[39;49m\u001b[38;5;124;43m'\u001b[39;49m\u001b[38;5;124;43m/vasprun-\u001b[39;49m\u001b[38;5;124;43m'\u001b[39;49m\u001b[38;5;241;43m+\u001b[39;49m\u001b[38;5;124;43m'\u001b[39;49m\u001b[38;5;132;43;01m{:03.0f}\u001b[39;49;00m\u001b[38;5;124;43m'\u001b[39;49m\u001b[38;5;241;43m.\u001b[39;49m\u001b[43mformat\u001b[49m\u001b[43m(\u001b[49m\u001b[43mi\u001b[49m\u001b[43m)\u001b[49m\u001b[38;5;241;43m+\u001b[39;49m\u001b[38;5;124;43m'\u001b[39;49m\u001b[38;5;124;43m.xml\u001b[39;49m\u001b[38;5;124;43m'\u001b[39;49m\u001b[43m \u001b[49m\u001b[38;5;28;43;01mfor\u001b[39;49;00m\u001b[43m \u001b[49m\u001b[43mi\u001b[49m\u001b[43m \u001b[49m\u001b[38;5;129;43;01min\u001b[39;49;00m\u001b[43m \u001b[49m\u001b[43mnp\u001b[49m\u001b[38;5;241;43m.\u001b[39;49m\u001b[43marange\u001b[49m\u001b[43m(\u001b[49m\u001b[38;5;241;43m1\u001b[39;49m\u001b[43m,\u001b[49m\u001b[38;5;28;43mlen\u001b[39;49m\u001b[43m(\u001b[49m\u001b[43mphonon\u001b[49m\u001b[38;5;241;43m.\u001b[39;49m\u001b[43mdisplacements\u001b[49m\u001b[43m)\u001b[49m\u001b[38;5;241;43m+\u001b[39;49m\u001b[38;5;241;43m1\u001b[39;49m\u001b[43m)\u001b[49m\u001b[43m]\u001b[49m\u001b[43m,\u001b[49m\u001b[43m \u001b[49m\u001b[43muse_expat\u001b[49m\u001b[38;5;241;43m=\u001b[39;49m\u001b[38;5;28;43;01mTrue\u001b[39;49;00m\u001b[43m,\u001b[49m\u001b[43m \u001b[49m\u001b[43mverbose\u001b[49m\u001b[38;5;241;43m=\u001b[39;49m\u001b[38;5;28;43;01mTrue\u001b[39;49;00m\u001b[43m)\u001b[49m\n\u001b[0;32m      2\u001b[0m phonon\u001b[38;5;241m.\u001b[39mforces\u001b[38;5;241m=\u001b[39mvasp_results[\u001b[38;5;124m'\u001b[39m\u001b[38;5;124mforces\u001b[39m\u001b[38;5;124m'\u001b[39m]\n\u001b[0;32m      3\u001b[0m phonon\u001b[38;5;241m.\u001b[39mproduce_force_constants()\n",
      "File \u001b[1;32mc:\\Users\\piotrrozyczko\\.conda\\envs\\mdanse\\Lib\\site-packages\\phonopy\\interface\\vasp.py:200\u001b[0m, in \u001b[0;36mparse_set_of_forces\u001b[1;34m(num_atoms, forces_filenames, use_expat, verbose)\u001b[0m\n\u001b[0;32m    198\u001b[0m     myio \u001b[38;5;241m=\u001b[39m get_io_module_to_decompress(fp)\n\u001b[0;32m    199\u001b[0m     \u001b[38;5;28;01mwith\u001b[39;00m myio\u001b[38;5;241m.\u001b[39mopen(fp, \u001b[38;5;124m\"\u001b[39m\u001b[38;5;124mrb\u001b[39m\u001b[38;5;124m\"\u001b[39m) \u001b[38;5;28;01mas\u001b[39;00m fp:\n\u001b[1;32m--> 200\u001b[0m         forces, points, energy \u001b[38;5;241m=\u001b[39m \u001b[43m_get_forces_points_and_energy\u001b[49m\u001b[43m(\u001b[49m\n\u001b[0;32m    201\u001b[0m \u001b[43m            \u001b[49m\u001b[43mfp\u001b[49m\u001b[43m,\u001b[49m\u001b[43m \u001b[49m\u001b[43muse_expat\u001b[49m\u001b[38;5;241;43m=\u001b[39;49m\u001b[43muse_expat\u001b[49m\u001b[43m,\u001b[49m\u001b[43m \u001b[49m\u001b[43mfilename\u001b[49m\u001b[38;5;241;43m=\u001b[39;49m\u001b[43mfp\u001b[49m\n\u001b[0;32m    202\u001b[0m \u001b[43m        \u001b[49m\u001b[43m)\u001b[49m\n\u001b[0;32m    203\u001b[0m force_sets\u001b[38;5;241m.\u001b[39mappend(forces)\n\u001b[0;32m    204\u001b[0m energy_sets\u001b[38;5;241m.\u001b[39mappend(energy)\n",
      "File \u001b[1;32mc:\\Users\\piotrrozyczko\\.conda\\envs\\mdanse\\Lib\\site-packages\\phonopy\\interface\\vasp.py:171\u001b[0m, in \u001b[0;36m_get_forces_points_and_energy\u001b[1;34m(fp, use_expat, filename)\u001b[0m\n\u001b[0;32m    169\u001b[0m     \u001b[38;5;28;01mif\u001b[39;00m filename \u001b[38;5;129;01mis\u001b[39;00m \u001b[38;5;129;01mnot\u001b[39;00m \u001b[38;5;28;01mNone\u001b[39;00m:\n\u001b[0;32m    170\u001b[0m         msg \u001b[38;5;241m=\u001b[39m \u001b[38;5;124mf\u001b[39m\u001b[38;5;124m'\u001b[39m\u001b[38;5;124mCould not parse \u001b[39m\u001b[38;5;124m\"\u001b[39m\u001b[38;5;132;01m{\u001b[39;00mfilename\u001b[38;5;132;01m}\u001b[39;00m\u001b[38;5;124m\"\u001b[39m\u001b[38;5;124m. \u001b[39m\u001b[38;5;124m'\u001b[39m \u001b[38;5;241m+\u001b[39m msg\n\u001b[1;32m--> 171\u001b[0m     \u001b[38;5;28;01mraise\u001b[39;00m \u001b[38;5;167;01mRuntimeError\u001b[39;00m(msg) \u001b[38;5;28;01mfrom\u001b[39;00m \u001b[38;5;21;01merr\u001b[39;00m\n\u001b[0;32m    172\u001b[0m \u001b[38;5;28;01mreturn\u001b[39;00m forces, points, energy\n",
      "\u001b[1;31mRuntimeError\u001b[0m: Could not parse \"<_io.BufferedReader name='si_phonons//vasprun-001.xml'>\". Probably this vasprun.xml is broken or some value diverges. Check this calculation carefully before sending questions to the phonopy mailing list."
     ]
    }
   ],
   "source": [
    "vasp_results=parse_set_of_forces(num_atoms=phonon.dataset['natom'], forces_filenames=[phonon_dir+'/vasprun-'+'{:03.0f}'.format(i)+'.xml' for i in np.arange(1,len(phonon.displacements)+1)], use_expat=True, verbose=True)\n",
    "phonon.forces=vasp_results['forces']\n",
    "phonon.produce_force_constants()"
   ]
  },
  {
   "cell_type": "markdown",
   "metadata": {},
   "source": [
    "- Calculate the vDOS using Phonopy. Here, we use `run_projected_dos()` to separate the contribution from each species."
   ]
  },
  {
   "cell_type": "code",
   "execution_count": null,
   "metadata": {},
   "outputs": [],
   "source": [
    "phonon.run_mesh([15, 15, 15], with_eigenvectors=True, is_mesh_symmetry=False)\n",
    "phonon.run_projected_dos(#sigma=0.05,\n",
    "                         freq_min=None,\n",
    "                         freq_max=None,\n",
    "                         freq_pitch=0.05,\n",
    "                         use_tetrahedron_method=True,\n",
    "                         direction=None,\n",
    "                         xyz_projection=False,\n",
    "    )\n",
    "vdos=phonon.get_projected_dos_dict()"
   ]
  },
  {
   "cell_type": "markdown",
   "metadata": {},
   "source": [
    "- Plot the results"
   ]
  },
  {
   "cell_type": "code",
   "execution_count": null,
   "metadata": {},
   "outputs": [],
   "source": [
    "%matplotlib inline\n",
    "Si_indices=np.where(np.array(phonon.unitcell.symbols)=='Si')[0]\n",
    "\n",
    "figvdos, ax=plt.subplots(1,1,figsize=(8,4),dpi=150)\n",
    "ax.plot(vdos['frequency_points']*4.136, np.sum(vdos['projected_dos'][Si_indices,:],axis=0),label='Si')\n",
    "\n",
    "ax.set_ylabel('vDOS')\n",
    "ax.set_xlabel('energy (meV)')\n",
    "ax.legend()"
   ]
  }
 ],
 "metadata": {
  "kernelspec": {
   "display_name": "mdanse",
   "language": "python",
   "name": "python3"
  },
  "language_info": {
   "codemirror_mode": {
    "name": "ipython",
    "version": 3
   },
   "file_extension": ".py",
   "mimetype": "text/x-python",
   "name": "python",
   "nbconvert_exporter": "python",
   "pygments_lexer": "ipython3",
   "version": "3.11.10"
  }
 },
 "nbformat": 4,
 "nbformat_minor": 4
}
