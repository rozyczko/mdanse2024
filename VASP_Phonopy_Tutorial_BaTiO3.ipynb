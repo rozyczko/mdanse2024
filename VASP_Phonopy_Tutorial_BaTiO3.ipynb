{
 "cells": [
  {
   "cell_type": "markdown",
   "id": "a99d3d78-8ee0-4f6e-8409-e4c38f7758ac",
   "metadata": {},
   "source": [
    "# Hands-on VASP and Phonopy: calculate vibrations!\n",
    "## Introduction \n",
    "\n",
    "Welcome to this tutorial on the use of VASP and Phonopy to calculate phonon modes.\n",
    "It will guide you through two examples: a $\\mathsf{Si}$ crystal and a $\\mathsf{BaTiO_{3-x}H_x}$ crystal.<br>\n",
    "\n",
    "It uses a Python interface to write and read inputs/output files from VASP, called Atomic Simulation Environment (ASE) (https://wiki.fysik.dtu.dk/ase/index.html).\n",
    "While the inputs files are created using ASE and the following python scripts, VASP is executed on the ILL  high-performance computing (HPC) server (or cluster) called masterp. You will also learn how to submit jobs to this cluster.\n",
    "\n",
    "If not already done, please copy this Jupyer file (.ipynb) to your home directory.\n",
    "\n",
    "Let's load all the usefull Python modules. Execute the following cell by selecting it and clicking the $ \\blacktriangleright $ symbol in the toolbar."
   ]
  },
  {
   "cell_type": "code",
   "execution_count": null,
   "id": "d2058b66-1807-462e-a8bb-ecf88a9d3c42",
   "metadata": {
    "slideshow": {
     "slide_type": ""
    },
    "tags": []
   },
   "outputs": [],
   "source": [
    "import os\n",
    "import numpy as np\n",
    "import matplotlib.pyplot as plt\n",
    "from ase import Atoms\n",
    "from ase.build import bulk\n",
    "from ase.visualize import view\n",
    "from ase.calculators.vasp import Vasp\n",
    "from ase.io import read, write\n",
    "from phonopy import Phonopy, load\n",
    "from phonopy.structure.atoms import PhonopyAtoms\n",
    "from phonopy.interface.calculator import read_crystal_structure\n",
    "from phonopy.interface.vasp import parse_set_of_forces, write_vasp\n",
    "from phonopy.phonon.band_structure import get_band_qpoints_and_path_connections\n",
    "# %env VASP_PP_PATH=/nethome/ds/finel/MDANSE_School_Hands-on_VASP_Phonopy/\n",
    "%env VASP_PP_PATH=."
   ]
  },
  {
   "cell_type": "markdown",
   "id": "e5dee962-5df1-4b4d-909d-ab56486c884e",
   "metadata": {},
   "source": [
    "Let's also define two functions creating the bash files required to submit jobs to the cluster."
   ]
  },
  {
   "cell_type": "code",
   "execution_count": 2,
   "id": "fb75f77a-cf66-41d3-bc09-74a8f30f67ad",
   "metadata": {
    "jupyter": {
     "source_hidden": true
    },
    "slideshow": {
     "slide_type": ""
    },
    "tags": []
   },
   "outputs": [],
   "source": [
    "# Function writing a VASP job script called ILL_hpc_vasp_job_local.sh #\n",
    "\n",
    "def write_job(directory, #The directory to write the file\n",
    "              label,     #The job name\n",
    "              nodes,     #The number of requested nodes\n",
    "              queue):    #The name of the requested queue in the cluster\n",
    "    f = open(directory+'/ILL_hpc_vasp_job_local.sh', \"w\")\n",
    "    f.write(\"\"\"#!/bin/bash\n",
    "\n",
    "#PBS -q \"\"\"+queue+\"\"\"\n",
    "#PBS -N \"\"\"+label+\"\"\"\n",
    "#PBS -l nodes=\"\"\"+nodes+\"\"\":ppn=\"\"\"+queue[-2:]+\"\"\"\n",
    "# if nodes > 1 : FOR THE q.2015_16 queue activate one of the following lines:\n",
    "#export I_MPI_DEVICE=\"rdma:ofa-v2-ib0\" \n",
    "#export I_MPI_DEVICE=\"rdssm:ofa-v2-ib0\"\n",
    "\n",
    "module load intel/14.0.1\n",
    "module load intelmpi/4.1.0.024\n",
    "module load vasp/intelmpi/5.4.1\n",
    "\n",
    "cd $PBS_O_WORKDIR\n",
    "ulimit -s unlimited\n",
    "mpirun vasp_std > vasp_job.log\\n\"\"\")\n",
    "    \n",
    "    f.close()\n",
    "    \n",
    "\n",
    "# Function writing a VASP job script dedicated to the calculation of Hellman-Feynman Forces (HFF). \n",
    "# It launches a VASP run at the Gamma-point only for an array of displacements generated using Phonopy \n",
    "\n",
    "def write_job_HFF(directory,#The directory to write the file  \n",
    "                  label,    #The job name\n",
    "                  Nimg,     #The number of displacement \n",
    "                  nodes,    #The number of requested nodes\n",
    "                  queue):   #The name of the requested queue in the cluster\n",
    "    f = open(directory+'/ILL_hpc_vasp_job_local.sh', \"w\")\n",
    "    f.write(\"\"\"#!/bin/bash\n",
    "\n",
    "#PBS -q \"\"\"+queue+\"\"\"\n",
    "#PBS -N \"\"\"+label+\"\"\"\n",
    "#PBS -l nodes=\"\"\"+nodes+\"\"\":ppn=\"\"\"+queue[-2:]+\"\"\"\n",
    "# if nodes > 1 : FOR THE q.2015_16 queue activate one of the following lines:\n",
    "#export I_MPI_DEVICE=\"rdma:ofa-v2-ib0\" \n",
    "#export I_MPI_DEVICE=\"rdssm:ofa-v2-ib0\"\n",
    "\n",
    "module load intel/14.0.1\n",
    "module load intelmpi/4.1.0.024\n",
    "module load vasp/intelmpi/5.4.1\n",
    "\n",
    "cd $PBS_O_WORKDIR\n",
    "ulimit -s unlimited\n",
    "\n",
    "for i in {001..\"\"\"+f'{Nimg:03d}'+\"\"\"}\n",
    "do\n",
    "cp POSCAR-$i POSCAR\n",
    "\n",
    "mpirun vasp_gam > vasp_job.log\n",
    "\n",
    "wait\n",
    "\n",
    "cp vasprun.xml vasprun-$i.xml\n",
    "rm POSCAR OUTCAR\n",
    "\n",
    "done\n",
    "\n",
    "#End of script (make sure line before this gets run)\"\"\")\n",
    "    \n",
    "    f.close()\n",
    "\n",
    "#Function writing the displacement as a series of POSCAR files to be read by VASP.\n",
    "\n",
    "def write_supercells_with_displacements(\n",
    "    supercell, cells_with_displacements, directory, pre_filename=\"POSCAR\", width=3\n",
    "):\n",
    "    ids = np.arange(len(cells_with_displacements), dtype=int) + 1\n",
    "    write_vasp(directory+\"S%s\" % pre_filename, supercell, direct=True)\n",
    "    for i, cell in zip(ids, cells_with_displacements):\n",
    "        filename = directory+\"{pre_filename}-{0:0{width}}\".format(\n",
    "            i, pre_filename=pre_filename, width=width\n",
    "        )\n",
    "        write_vasp(filename, cell, direct=True)"
   ]
  },
  {
   "cell_type": "markdown",
   "id": "ff8db467-49e8-4794-8a6f-727783586b3d",
   "metadata": {},
   "source": [
    "## Example 1: Si crystal"
   ]
  },
  {
   "cell_type": "markdown",
   "id": "1c3e38d6-5482-4a6c-a403-b0cd54cab748",
   "metadata": {},
   "source": [
    "In this tutorial, we will create a model of silicon crystal, display it and perform simple geometry optimization and phonon calculations using VASP and Phonopy.\n",
    "\n",
    "ASE allows us to quickly generate structures - both molecular and periodic.\n",
    "\n",
    "Here, we just tell ASE to create a silicon lattice for us."
   ]
  },
  {
   "cell_type": "markdown",
   "id": "bb43024c",
   "metadata": {},
   "source": [
    "### 1. Preparing the structure"
   ]
  },
  {
   "cell_type": "code",
   "execution_count": null,
   "id": "1a8f6a37",
   "metadata": {},
   "outputs": [],
   "source": []
  },
  {
   "cell_type": "code",
   "execution_count": 14,
   "id": "4fbcfb77-ef5c-4c9f-8de6-08296809fc57",
   "metadata": {},
   "outputs": [],
   "source": [
    "si_conventional = bulk('Si', 'fcc', a=5.43, cubic=True)\n",
    "si_primitive = bulk('Si', 'fcc', a=5.43)"
   ]
  },
  {
   "cell_type": "markdown",
   "id": "7c02f81e",
   "metadata": {},
   "source": [
    "We can visualize the cell using one of several tools which come with ASE"
   ]
  },
  {
   "cell_type": "code",
   "execution_count": null,
   "id": "75a480c0-1d1f-4f64-a582-d48dbded2318",
   "metadata": {},
   "outputs": [],
   "source": [
    "view(si_conventional, viewer='x3d')"
   ]
  },
  {
   "cell_type": "code",
   "execution_count": null,
   "id": "c58f1dce-452d-41a5-a70e-0302029612e4",
   "metadata": {},
   "outputs": [],
   "source": [
    "view(si_primitive, viewer='x3d')"
   ]
  },
  {
   "cell_type": "code",
   "execution_count": null,
   "id": "71cfe17d-59b3-4eab-9a26-3cd06bba4130",
   "metadata": {},
   "outputs": [],
   "source": [
    "si_primitive.cell"
   ]
  },
  {
   "cell_type": "code",
   "execution_count": null,
   "id": "7dc5ff0a-a592-4099-95bb-6b7e2dbbb431",
   "metadata": {},
   "outputs": [],
   "source": [
    "si_conventional.cell"
   ]
  },
  {
   "cell_type": "markdown",
   "id": "662b81bb",
   "metadata": {},
   "source": [
    "### 2. Relaxing the structure (geometry optimization)"
   ]
  },
  {
   "cell_type": "markdown",
   "id": "f4d23cd5",
   "metadata": {},
   "source": [
    "Phonon calculations need to be performed on a fully optimized structure, i.e. forces on atoms should be as close to zero as possible. Geometry optimization determines location of atoms in a crystal (or in a molecule) at 0K. The accuracy of the relaxation needs to be high in order to obtain reliable phonon frequencies.\n",
    "\n",
    "Here, we will use ASE to construct the VASP input files for relaxation. First, create a directory where job files will be kept. This will help in maintaining clean project space between runs."
   ]
  },
  {
   "cell_type": "code",
   "execution_count": 18,
   "id": "7045045e",
   "metadata": {},
   "outputs": [],
   "source": [
    "relaxation_dir='relaxation_si/'"
   ]
  },
  {
   "cell_type": "markdown",
   "id": "d408b905",
   "metadata": {},
   "source": [
    "In order to properly define the VASP job, we need to pass a number of parameters describing how we want to run the calculation.\n",
    "\n",
    "The keyword `PREC` tells VASP how to set default values for various convergence parameters (energy, FFT grid, etc.). Setting this parameter to `Accurate` means VASP is going to help achieving accurate forces and then more accurate phonon spectrum.\n",
    "\n",
    "The kinetic energy cutoff specifies the energy cutoff for the plane-wave basis set in eV. Here, we will use `200` eV.\n",
    "\n",
    "The SCF loop will be considered converged, if the difference between current and previous energy will be less than `EDIFF` eV. Here, we choose 5.0e-7 eV per atom.\n",
    "\n",
    "We also want to achieve convergence for atomic forces - they should be less than 1e-5 eV/A. The negative sign of `EDIFFG` parameter means that the relaxation is stopped when the norms of all the forces are smaller than |ediffg|, which is a more convenient setting.\n",
    "\n",
    "We will use the standard `PBE` functional, well suited for first order properties like geometries.\n",
    "\n",
    "Specifying `IBRION` and `ISIF` lets us tweak the relaxation algorithm - we want to perform a relaxation calculation (`IBRION!=0`) and vary atomic positions and cell volume at each step.\n",
    "\n",
    "For the k-point grid, we want to use a large number of points in all directions. Hence, we chose `8,8,8`. The grid should be centered on the Γ-point.\n",
    "\n",
    "Lastly, we should not store very large, unneeded files after the job completes, so we need to tell VASP to delete those.\n"
   ]
  },
  {
   "cell_type": "code",
   "execution_count": 24,
   "id": "44b39c24",
   "metadata": {},
   "outputs": [],
   "source": [
    "calc=Vasp(\n",
    "    directory=relaxation_dir,      \n",
    "    label='Si_relaxation',\n",
    "    # Convergence parameters\n",
    "    prec='Accurate',# Vasp precision tag\n",
    "    encut=500,      # energy cutoff for the plane-wave basis set in eV\n",
    "    ediff=5e-7,     # Relax electronic structure until 5e-7 eV energy change between 2 electronic loop\n",
    "    ediffg=-1e-5,   # Relax ionic forces below 1e-5 eV/A\n",
    "    # Job settings\n",
    "    xc=\"pbe\",       # Use the PBE exchange and correlation functional\n",
    "    ibrion=1,       # Ionic relaxation\n",
    "    isif=2,         # Relax positions and cell volume\n",
    "    # K-point grid settings\n",
    "    kpts=[8,8,8],   # Kpoint grid\n",
    "    gamma=True,     # Gamma-centered grid\n",
    "    # Output settings\n",
    "    lwave=False,    # Do not save wave fuction files (large files)\n",
    ")"
   ]
  },
  {
   "cell_type": "code",
   "execution_count": null,
   "id": "4d051811",
   "metadata": {},
   "outputs": [],
   "source": [
    "calc.write_input(si_primitive)"
   ]
  },
  {
   "cell_type": "markdown",
   "id": "13c3cc01",
   "metadata": {},
   "source": [
    "Now you can examine the content of `relaxation_si` subdirectory."
   ]
  },
  {
   "cell_type": "code",
   "execution_count": null,
   "id": "1debc6e7",
   "metadata": {},
   "outputs": [],
   "source": [
    "import glob\n",
    "print(\"\\n\".join(glob.glob(\"relaxation_si/*\")))"
   ]
  },
  {
   "cell_type": "markdown",
   "id": "b0920fa4",
   "metadata": {},
   "source": [
    "The four files with names in capital letters are VASP input files.\n",
    "\n",
    "`INCAR` lists parameters used in the energy and force calculations.\n",
    "`KPOINTS` describes the kpoint grid used.\n",
    "`POSCAR` describes the unit cell, atom types and their positions.\n",
    "`POTCAR` contains pseudopotentials for each atomic species.\n",
    "\n",
    "All four files are required for the calculation we are about to run.\n"
   ]
  },
  {
   "cell_type": "markdown",
   "id": "6cb56c54",
   "metadata": {},
   "source": [
    "Now it is time to run the VASP calculation. For this, we need to submit the job to the cluster:<br>\n",
    "\n",
    "a) Connect to the cluster login node: open a terminal and log in with: `$ ssh <your_username>@masterp.ill.fr`.<br>\n",
    "\n",
    "b) Check that the queue you want to submit to has nodes availables using the `qload` command. If no nodes are available, change the queue in the submit script `vasp.sh`.\n",
    "\n",
    "c) Copy your job directory `relaxation_si` to the cluster. From the VISA instance, use `scp -r relaxation_si <your_username>@masterp.ill.fr:` to transfer the whole directory to the main cluster node.\n",
    "\n",
    "d) Launch the job. From the job directory on the cluster launch the job using `$ qsub vasp.sh`. You can then monitor your job with `$ qstat`.\n",
    "\n",
    "e) Check the VASP log file. Type: `$ more vasp_job.log`. It is updated during the calculation. You can see each electronic and ionic step.\n",
    "\n",
    "f) The calculation shoud take aprrox. 2 mins on 1x8 cpus (there is only 1 atom to be displaced). Once it is completed, you will see in the log file `reached required accuracy - stopping structural energy minimisation`. Copy back the job folder to your home directory using `$ cp -r /destination_directory_on_the_cluster ~/your_username/your_directory/`.\n",
    "\n",
    "- Have a look at the results! The main output file of VASP is called `OUTCAR`. You can have a look and check out the forces decreasing with increasing ionic steps. The same data is also outputed in a xml file `vasprun.xml`. Use `read()` to load the file and plot the force along the ionic steps."
   ]
  },
  {
   "cell_type": "markdown",
   "id": "3c2d81b1-3b86-46e1-981b-5c91b4d451c5",
   "metadata": {},
   "source": [
    "## Example 2: $\\mathsf{BaTiO_{3-x}H_x}$ crystal\n",
    "\n",
    "Barium titanate oxyde-hydride ($\\mathsf{BaTiO_{3-x}H_x}$) is a mixed-anion material displaying hydride-ion ($\\mathsf{H^-}$) conductivity (see https://doi.org/10.1038/nmat3302). The mobility of $\\mathsf{H^-}$ may be exploited for applications such as in energy storage and conversion devices, and in catalyst technologies for hydrogenation reactions. The virational modes of the crystal structure of $\\mathsf{BaTiO_{3-x}H_x}$ are of great interest for this research because they relate to the local coordianation environement around $\\mathsf{H^-}$. Specifically, they indicate the presence of oxygen vacancies neighbouring the $\\mathsf{H^-}$ anions, which may serve as jumping sites for $\\mathsf{H^-}$ and enable the ionic conductivity (see https://doi.org/10.1039/c9ta11912d).\n",
    "\n",
    "<img src=btoh.png width=\"600\"/>\n",
    "\n",
    "In this example, we simulate the vibrational density of states (vDOS) spectrum and the phonon band structure of a stoichiometric $\\mathsf{BaTiO_{3-x}H_x}$, free of vacanices."
   ]
  },
  {
   "cell_type": "markdown",
   "id": "227b499c-5781-42e8-a475-4d9a84fe90ca",
   "metadata": {},
   "source": [
    "### 1. Preparing the structure\n",
    "\n",
    "**1.0** - Find on the web a Crystallographic Information File (.cif) for a simple **cubic** $\\mathsf{BaTiO_{3}}$ crystal.\n",
    "\n",
    "**1.1** - Open your .cif file in the software VESTA and edit it in order to replace one oxygen atom by a hydrogen atom. Add a slight displacement (about .1 fractional unit) to some atoms. This displcement fake a non-perfect crystal sructure, as it is often the case when you compute properties of a new material. Export it as a vasp file and rename it as 'POSCAR' (without extension). This file will be read by VASP as the input structure.\n",
    "\n",
    "- Now, load the POSCAR file into ASE using `read()`:"
   ]
  },
  {
   "cell_type": "code",
   "execution_count": 2,
   "id": "e3c2bf9d-8348-45fc-ae05-5a3b97465979",
   "metadata": {
    "tags": []
   },
   "outputs": [],
   "source": [
    "atoms=read('POSCAR')"
   ]
  },
  {
   "cell_type": "markdown",
   "id": "b29bfa53-af60-43e6-8601-d25aa408c598",
   "metadata": {},
   "source": [
    "You can vizualie the loaded structure to check it using `view()`"
   ]
  },
  {
   "cell_type": "code",
   "execution_count": null,
   "id": "cdf3180a-0acf-41c7-bf60-73291c99e3f0",
   "metadata": {},
   "outputs": [],
   "source": [
    "view(atoms)"
   ]
  },
  {
   "cell_type": "markdown",
   "id": "9148a620-7692-4468-b1cf-1b08741a9540",
   "metadata": {},
   "source": [
    "### 2. Relaxing the structure\n",
    "\n",
    "Before calculating the phonon mode of our crystal structure, the forces need to be 'relaxed', that is, the total force on each atom need to approach 0. This can be done with VASP, using a minimization algorithm (see https://www.vasp.at/wiki/index.php/Category:Ionic_minimization). This algorithm will update the atomic positions as well as the lattice constants until the forces vanish.\n",
    "\n",
    "- Create a new directory dedicated to the structure relaxation, it will contain the VASP input/output files for the relaxation."
   ]
  },
  {
   "cell_type": "code",
   "execution_count": 17,
   "id": "921bdd28-c63b-4534-9099-13c24f6de105",
   "metadata": {},
   "outputs": [],
   "source": [
    "relaxation_dir='relaxation_small_cell/'"
   ]
  },
  {
   "cell_type": "markdown",
   "id": "beebec44-f8a4-4632-b3c4-67fdfeac459c",
   "metadata": {},
   "source": [
    "- Use the function `Vasp()` in ASE to generate the input files. Here, we propose a set of very coarse settings to speed up the calculation. Have a look at which settings one should modify to increase the accuracy on the forces."
   ]
  },
  {
   "cell_type": "code",
   "execution_count": 23,
   "id": "f4fcded4-89d8-40cd-9eff-5b00353b6936",
   "metadata": {},
   "outputs": [],
   "source": [
    "calc=Vasp(\n",
    "    directory=relaxation_dir,      \n",
    "    label='BaTiO3-xHx_relaxation',\n",
    "    encut=500,    #energy cutoff for the plane-wave basis set in eV\n",
    "    xc=\"pbe\",     #Use the PBE exchange and correlation functional\n",
    "    ediff=1e-7,   #Relax electronic structure until 1e-5 eV energy change between 2 electronic loop\n",
    "    ibrion=1,     #Ionic relaxation\n",
    "    isif=3,       #Relax positions, cell shape, cell volume \n",
    "    ediffg=-1e-5, #Relax ionic forces below 1e-3 eV/A\n",
    "    nsw=300,      #Max 300 ionic steps\n",
    "    kpts=[5,5,5], #Kpoint grid\n",
    "    gamma=True,   #Gamma-centered grid\n",
    "    lwave=False,  #Do not save wave fuction files (large files)\n",
    "    prec='Accurate',#Vasp precision tag\n",
    ")"
   ]
  },
  {
   "cell_type": "markdown",
   "id": "9731226a-ffbb-473d-92a3-90e02dc91b57",
   "metadata": {},
   "source": [
    "- Write out the input files using `write_input` and create a job bash script using `write_job()`.\n"
   ]
  },
  {
   "cell_type": "code",
   "execution_count": 24,
   "id": "ae359fdd-106c-4ef3-8585-1b14977cfd90",
   "metadata": {},
   "outputs": [],
   "source": [
    "calc.write_input(atoms)\n",
    "write_job(directory=relaxation_dir,label='BaTiO3-xHx_relaxation',nodes='1',queue='q.2010_08')"
   ]
  },
  {
   "cell_type": "markdown",
   "id": "35dc82c3-24e6-47c2-a1fd-2ef7aa48703c",
   "metadata": {},
   "source": [
    "- Submit your job to the cluster:<br>\n",
    "\n",
    "a) Connect to the cluster login node: open a terminal and log in with: `$ ssh your_username@masterp.ill.fr`.<br>\n",
    "\n",
    "b) Check that the queue you want to submit to has nodes availables using the `qload` command. If no nodes are available, change the queue in the above cell and execute it again.\n",
    "\n",
    "c) Copy your job directory to the cluster. Your VISA home folder is mounted on the cluster login node, and it is called as your username. However, the compute nodes haven't access to your home folder, so **you must copy your job directory to the cluster**. From the cluster login node, use `$ cp -r ~/your_username/your_directory/ /destination_directory_on_the_cluster`.<br>\n",
    "\n",
    "d) Launch the job. From the job directory on the cluster (you can move to your job directory using `$ cp /destination_directory_on_the_cluster`) launch the job using `$ qsub ILL_hpc_vasp_job_local.sh`. You can then monitor your job with `$ qstat`.\n",
    "\n",
    "e) Check the VASP log file. Type: `$ more vasp_job.log`. It is updated during the calculation. You can see each electronic and ionic step.\n",
    "\n",
    "f) The calculation shoud take aprrox. 2 mins on 1x8 cpus (if you did not displace too much the atom). Once it is completed, you will see in the log file `reached required accuracy - stopping structural energy minimisation`. Copy back the job folder to your home directory using `$ cp -r /destination_directory_on_the_cluster ~/your_username/your_directory/`.\n",
    "\n",
    "- Have a look at the results! The main output file of VASP is called `OUTCAR`. You can have a look and check out the forces decreasing with increasing ionic steps. The same data is also outputed in a xml file `vasprun.xml`. Use `read()` to load the file and plot the force along the ionic steps."
   ]
  },
  {
   "cell_type": "code",
   "execution_count": null,
   "id": "8911f0e1-8454-4419-96db-496c70364840",
   "metadata": {},
   "outputs": [],
   "source": [
    "vasp_results=read(relaxation_dir+'/vasprun.xml',index=':', format='vasp-xml')   #Load the results\n",
    "E=np.array([img.get_potential_energy() for img in vasp_results])                         #Extract the total energy for each ionic step\n",
    "maxF=np.array([np.max(np.linalg.norm(img.get_forces(),axis=1)) for img in vasp_results]) #Extract the maximum force for each ioninc step\n",
    "fig, ax=plt.subplots(1,2,figsize=(20,3))                                                 #Plot them\n",
    "ax[0].grid(which='both')\n",
    "ax[0].set_title('Max Force. Max: {:0.5f} eV/Å'.format(maxF[-1]))\n",
    "ax[0].set_ylabel('eV/Å')\n",
    "ax[0].set_yscale('log')\n",
    "ax[1].grid(which='both')\n",
    "ax[1].set_title('Energy. Min: {:0.4f} eV\\n'.format(E[-1]))\n",
    "ax[1].set_ylabel('eV')\n",
    "ax[1].set_ylim(ymin=E[-1]-2*(E[0]-E[-1]),ymax=E[0]+2*(E[0]-E[-1]))\n",
    "ax[0].plot(maxF)\n",
    "ax[1].plot(E);"
   ]
  },
  {
   "cell_type": "markdown",
   "id": "3caefc0d-ac7a-4b25-9571-2041d5e467ce",
   "metadata": {
    "tags": []
   },
   "source": [
    "### 3. Calculating phonons\n",
    "\n",
    "Now that the forces in the structure are close to zero, we can finally calculate its phonon modes. In this tutorial we use a **finite displacements approach** (or direct approach) implemented in the package Phonopy. You can remind yourself about the concept of lattice dynamics and phonons with this document: https://www.neutron-sciences.org/articles/sfn/pdf/2011/01/sfn201112007.pdf and read about the finite displacement approach here: https://www.neutron-sciences.org/articles/sfn/pdf/2011/01/sfn201112008.pdf.\n",
    "Finally, you can have  look at how it is implemented in Phonopy here: https://phonopy.github.io/phonopy/formulation.html.\n",
    "\n",
    "The finite displacements approach constists of slightly displacing each atom of the unit cell from their equilibrium position, and perform a single-point DFT calculation for each displacement in order to compute the resulting forces, called Hellmann-Feynman forces (HFF). Using the HFF, the force constants of the structures are computed and provide the phonon modes (the eigenfrequencies and the eigenvectors). \n",
    "\n",
    "**3.1** - Phonopy can propose a minimum number of displacements based on the symetry operation of the unitcell. Use the following cell to generate the displacement. Why do we use a 3x3x3 supercell?"
   ]
  },
  {
   "cell_type": "code",
   "execution_count": 21,
   "id": "bef97fcb-4008-4985-b5d9-4bbd599a3bd7",
   "metadata": {
    "tags": []
   },
   "outputs": [],
   "source": [
    "# Create the atomic displacement using Phonopy and write them out as POSCAR files #\n",
    "atoms=read(relaxation_dir+\"/CONTCAR\") #read relaxed cell\n",
    "unitcell, optional_structure_info = read_crystal_structure(relaxation_dir+\"/CONTCAR\", interface_mode='vasp') #read the relaxed cell\n",
    "phonon = Phonopy(unitcell, supercell_matrix=[[3, 0, 0], [0, 3, 0], [0, 0, 3]]) #build a 3x3x3 supercell to perform the DFT calculations\n",
    "phonon.generate_displacements(distance=0.03) #generate displacements of 0.03 A around the equilibrium positions\n",
    "supercells = phonon.supercells_with_displacements "
   ]
  },
  {
   "cell_type": "markdown",
   "id": "fa408dc7-d540-49cb-8adc-0155bcae1b65",
   "metadata": {},
   "source": [
    "- Create a new directory, dedicated to your phonon calculation, and write the displacements files."
   ]
  },
  {
   "cell_type": "code",
   "execution_count": 22,
   "id": "3515712e-8e88-452d-8517-b4c5886e6cc2",
   "metadata": {},
   "outputs": [],
   "source": [
    "phonon_dir='phonon_small_cell/'\n",
    "write_supercells_with_displacements(supercell=phonon.supercell, cells_with_displacements=supercells,directory=phonon_dir)"
   ]
  },
  {
   "cell_type": "markdown",
   "id": "bb7a6c23-58a7-497b-bf86-9a0666e92185",
   "metadata": {},
   "source": [
    "**3.2** - How many displacements were generated?\n",
    "\n",
    "**3.3** - Let's setup VASP for the single-point calculations. What keywords did we change compared to the relaxation job?"
   ]
  },
  {
   "cell_type": "code",
   "execution_count": 15,
   "id": "9133410a-b47b-4dba-97ac-ca82c13becd6",
   "metadata": {},
   "outputs": [],
   "source": [
    "#Setup VASP for an energy and forces calculation#\n",
    "calc=Vasp(\n",
    "    directory=phonon_dir,      \n",
    "    label='BaTiO3-xHx_phonon',\n",
    "    encut=500,    #energy cutoff for the plane-wave basis set in eV\n",
    "    xc=\"pbe\",     #Use the PBE exchange and correlation functional\n",
    "    ediff=1e-6,   #Relax electronic structure until 1e-7 eV energy change between 2 electronic loop\n",
    "    ibrion=-1,    #No ionic relaxation\n",
    "    kpts=[1,1,1], #Kpoint grid\n",
    "    gamma=True,   #Gamma-point centered\n",
    "    lwave=False,  #Do not save wave fuction files (large files)\n",
    "    prec='Normal',#Vasp precision tag\n",
    ")\n",
    "#Write the VASP job script#\n",
    "write_job_HFF(Nimg=len(phonon.displacements),directory=phonon_dir,label='BaTiO3-xHx_phonon_small_cell',nodes='1',queue='q.2015_16')\n",
    "calc.write_input(atoms)"
   ]
  },
  {
   "cell_type": "markdown",
   "id": "f32d4b04-56db-4077-a1ec-6786913ea77a",
   "metadata": {},
   "source": [
    "- Check out the new job script. And submit it following the same procedure as before.\n",
    "\n",
    "- Once the calculation is finished (it should take ~20 mins on 16 cores), copy back your phonon calculation directory to your home folder. Then, let's use again Phonopy to parse the results using `parse_set_of_forces()` and compute the force constants using `phonon.produce_force_constants()`."
   ]
  },
  {
   "cell_type": "code",
   "execution_count": null,
   "id": "cb9a76db-b60f-4e0c-948e-aaccdfabfc9f",
   "metadata": {},
   "outputs": [],
   "source": [
    "vasp_results=parse_set_of_forces(num_atoms=phonon.dataset['natom'], forces_filenames=[phonon_dir+'/vasprun-'+'{:03.0f}'.format(i)+'.xml' for i in np.arange(1,len(phonon.displacements)+1)], use_expat=True, verbose=True)\n",
    "phonon.forces=vasp_results['forces']\n",
    "phonon.produce_force_constants()"
   ]
  },
  {
   "cell_type": "markdown",
   "id": "3313c3c4-3af2-4aec-ad47-248dee9045e8",
   "metadata": {},
   "source": [
    "- Calculate the vDOS using Phonopy. Here, we use `run_projected_dos()` to separate the contribution from each species."
   ]
  },
  {
   "cell_type": "code",
   "execution_count": 103,
   "id": "42f0b23b-475c-419a-9f88-677f5894765f",
   "metadata": {},
   "outputs": [],
   "source": [
    "phonon.run_mesh([15, 15, 15], with_eigenvectors=True, is_mesh_symmetry=False)\n",
    "phonon.run_projected_dos(#sigma=0.05,\n",
    "                         freq_min=None,\n",
    "                         freq_max=None,\n",
    "                         freq_pitch=0.05,\n",
    "                         use_tetrahedron_method=True,\n",
    "                         direction=None,\n",
    "                         xyz_projection=False,\n",
    "    )\n",
    "vdos=phonon.get_projected_dos_dict()"
   ]
  },
  {
   "cell_type": "markdown",
   "id": "2e730c54-0f57-45c5-9ed8-de3bc15bd44b",
   "metadata": {},
   "source": [
    "- Plot the results"
   ]
  },
  {
   "cell_type": "code",
   "execution_count": null,
   "id": "906c9420-d5ff-4850-86ef-1c7347f6b4eb",
   "metadata": {},
   "outputs": [],
   "source": [
    "%matplotlib inline\n",
    "Ba_indices=np.where(np.array(phonon.unitcell.symbols)=='Ba')[0]\n",
    "Ti_indices=np.where(np.array(phonon.unitcell.symbols)=='Ti')[0]\n",
    "O_indices=np.where(np.array(phonon.unitcell.symbols)=='O')[0]\n",
    "H_indices=np.where(np.array(phonon.unitcell.symbols)=='H')[0]\n",
    "\n",
    "figvdos, ax=plt.subplots(1,1,figsize=(8,4),dpi=150)\n",
    "ax.plot(vdos['frequency_points']*4.136, np.sum(vdos['projected_dos'][Ba_indices,:],axis=0),label='Ba')\n",
    "ax.plot(vdos['frequency_points']*4.136, np.sum(vdos['projected_dos'][Ti_indices,:],axis=0),label='Ti')\n",
    "ax.plot(vdos['frequency_points']*4.136, np.sum(vdos['projected_dos'][O_indices,:],axis=0),label='O')\n",
    "ax.plot(vdos['frequency_points']*4.136, np.sum(vdos['projected_dos'][H_indices,:],axis=0),label='H')\n",
    "\n",
    "ax.set_ylabel('vDOS')\n",
    "ax.set_xlabel('energy (meV)')\n",
    "ax.legend();"
   ]
  },
  {
   "cell_type": "markdown",
   "id": "88463051-ffe3-4847-8790-0efb6fb4fb0a",
   "metadata": {},
   "source": [
    "**3.4** - Why the H has the highest vibrational frequencies and Ba has the lowest ?\n",
    "\n",
    "**3.5** - Why do we obtain negatie frequencies? What is the physical meaning? How can we get rid of it?\n",
    "\n",
    "**3.6** - Compare this calcualted vDOS with the INS spectra from this publication: https://doi.org/10.1039/c9ta11912d. What matches well and what are the differences (in frequencies and intensity)? How would you explain the differences?\n",
    "\n",
    "Finally, let's calculate the phonon band structure. It requires to calculate the eigenvecotrs and eigenfrequencies at specific q-points along a defnined path. This path usually follow high-symmetry points of the Brilloin zone of the crystal. Here, we use the cubic Brilloin zone.\n",
    "\n",
    "- The following cell defines the path and a the phonon calculation along this path."
   ]
  },
  {
   "cell_type": "code",
   "execution_count": 105,
   "id": "d6580b9a-c644-43df-a4f7-01b8886f9f05",
   "metadata": {},
   "outputs": [],
   "source": [
    "path = [[[0, 0, 0], [0, 0.5, 0], [0.5, 0.5, 0],[0.5, 0.5, 0.5], [0, 0, 0]]]  #High-symmetry points in the cubic Brillouin zone.\n",
    "path_labels = [\"$\\\\Gamma$\", \"X\", \"M\",\"R\", \"$\\\\Gamma$\"]                       #Names of the high-symmetry points in the cubic Brillouin zone.\n",
    "qpoints, connections = get_band_qpoints_and_path_connections(path, npoints=51)\n",
    "phonon.run_band_structure(qpoints, path_connections=connections, labels=path_labels, with_eigenvectors=True)\n",
    "bs=phonon.get_band_structure_dict()\n",
    "phonon.write_yaml_band_structure(filename=phonon_dir+'/bandstructure.yaml') #write the bandstructure file to vizualise it later"
   ]
  },
  {
   "cell_type": "markdown",
   "id": "7fd8f89f-9020-4bf0-837a-248f8dc231ed",
   "metadata": {},
   "source": [
    "- And plot the bandstructure!"
   ]
  },
  {
   "cell_type": "code",
   "execution_count": null,
   "id": "ba22eeb3-23a4-458b-911d-4a8d062aab07",
   "metadata": {},
   "outputs": [],
   "source": [
    "figbs, ax = plt.subplots(1, 2, gridspec_kw={'width_ratios': [4, 1]},figsize=(8,4),dpi=150)\n",
    "for i, distance in enumerate(bs['distances']):\n",
    "    for freq in bs['frequencies'][i].T:\n",
    "        ax[0].plot(distance,freq*4.136,'b-',lw=0.8)\n",
    "ax[0].set_ylabel('Energy [meV]')\n",
    "ax[0].set_xlim(left=0, right=bs['distances'][-1][-1])\n",
    "ax[0].set_xticks(np.unique(np.array(bs['distances'])[:,0::50]))\n",
    "ax[0].set_xticklabels(path_labels)\n",
    "ax[0].grid(True, axis='x')\n",
    "ax[0].axhline(0,0,1,ls='dashed', color='grey', lw=1)\n",
    "\n",
    "ax[1].plot(np.sum(vdos['projected_dos'][Ba_indices,:],axis=0),vdos['frequency_points']*4.136,label='Ba')\n",
    "ax[1].plot(np.sum(vdos['projected_dos'][Ti_indices,:],axis=0),vdos['frequency_points']*4.136,label='Ti')\n",
    "ax[1].plot(np.sum(vdos['projected_dos'][O_indices,:],axis=0),vdos['frequency_points']*4.136,label='O')\n",
    "ax[1].plot(np.sum(vdos['projected_dos'][H_indices,:],axis=0),vdos['frequency_points']*4.136,label='H')\n",
    "\n",
    "ax[1].set_xlabel('vDos')\n",
    "ax[1].set_ylim(ax[0].get_ybound())\n",
    "ax[1].tick_params(\n",
    "    axis='y',          # changes apply to the x-axis\n",
    "    which='both',      # both major and minor ticks are affected\n",
    "    left=False,\n",
    "    labelleft=False)      # ticks along the bottom edge are off\n",
    "ax[1].axhline(0,0,1,ls='dashed', color='grey', lw=1)\n",
    "ax[1].legend(loc='best',fontsize='small')\n",
    "ax[1].set_xticks([])\n",
    "figbs.subplots_adjust(wspace=0.01)"
   ]
  },
  {
   "cell_type": "markdown",
   "id": "59a7106f-2417-4e96-baf1-b4aaef88a9f6",
   "metadata": {},
   "source": [
    "**3.7** - Can you identify the acoustic and the optic modes in the band structure?\n",
    "\n",
    "**3.8** - Vizualize the vibrations! Open https://henriquemiranda.github.io/phononwebsite/phonon.html and load the file `bandstructure.yaml` located in your phonon calculation directory.\n",
    "\n",
    "**3.9** - The frequency of the modes associated with H are relatively independent of q. What is the physical meaning of this feature?"
   ]
  },
  {
   "cell_type": "code",
   "execution_count": null,
   "id": "4236800b-b000-4944-a344-f5bb9c0c32e6",
   "metadata": {},
   "outputs": [],
   "source": []
  }
 ],
 "metadata": {
  "kernelspec": {
   "display_name": "vasp",
   "language": "python",
   "name": "python3"
  },
  "language_info": {
   "codemirror_mode": {
    "name": "ipython",
    "version": 3
   },
   "file_extension": ".py",
   "mimetype": "text/x-python",
   "name": "python",
   "nbconvert_exporter": "python",
   "pygments_lexer": "ipython3",
   "version": "3.11.10"
  }
 },
 "nbformat": 4,
 "nbformat_minor": 5
}
