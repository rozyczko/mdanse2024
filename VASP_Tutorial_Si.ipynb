{
 "cells": [
  {
   "cell_type": "markdown",
   "metadata": {},
   "source": [
    "# Tutorial for relaxation calculations using VASP.\n",
    "## Introduction\n",
    "\n",
    "Welcome to the MDANSE2024 School tutorial section on using VASP and Phonopy to calculate phonon modes.\n",
    "\n",
    "This first tutorial will guide you through a simple case of a silicon (Si) crystal.\n",
    "\n",
    "You will learn how to write and read input/output files from VASP using the Atomic Simulation Environment (ASE). For more information, visit [ASE's official documentation](https://wiki.fysik.dtu.dk/ase/index.html).\n",
    "\n",
    "Then, you will run VASP on the ILL high-performance computing (HPC) cluster called `masterp`, using a job submission script.\n",
    "\n",
    "If not already done, please copy this Jupyter Notebook file (.ipynb) and the job submission script `ILL_hpc_vasp_job_local.sh` to your home directory."
   ]
  },
  {
   "cell_type": "markdown",
   "metadata": {},
   "source": [
    "Let us start with importing all the necessary Python modules. We need both the numerical libraries and ASE package.\n",
    "Execute the following cell by selecting it and clicking the $ \\blacktriangleright $ symbol in the toolbar."
   ]
  },
  {
   "cell_type": "code",
   "execution_count": null,
   "metadata": {},
   "outputs": [],
   "source": [
    "import os\n",
    "import matplotlib.pyplot as plt\n",
    "from ase.build import bulk\n",
    "from ase.visualize import view\n",
    "from ase.calculators.vasp import Vasp\n",
    "\n",
    "%env VASP_PP_PATH=."
   ]
  },
  {
   "cell_type": "markdown",
   "metadata": {},
   "source": [
    "## Example 1: Si crystal"
   ]
  },
  {
   "cell_type": "markdown",
   "metadata": {},
   "source": [
    "### 1. Preparing the structure\n",
    "\n",
    "First, we will create a model of silicon crystal, display it and perform simple geometry optimization using VASP.\n",
    "\n",
    "ASE allows us to quickly generate structures - both molecular and periodic.\n",
    "\n",
    "Here, we just tell ASE to create a silicon lattice for us."
   ]
  },
  {
   "cell_type": "code",
   "execution_count": null,
   "metadata": {},
   "outputs": [],
   "source": [
    "si_conventional = bulk('Si', 'fcc', a=5.43, cubic=True)\n",
    "si_primitive = bulk('Si', 'fcc', a=5.43)"
   ]
  },
  {
   "cell_type": "markdown",
   "metadata": {},
   "source": [
    "We can visualize the cell using one of several tools which come with ASE"
   ]
  },
  {
   "cell_type": "code",
   "execution_count": null,
   "metadata": {},
   "outputs": [],
   "source": [
    "view(si_conventional, viewer='x3d')"
   ]
  },
  {
   "cell_type": "markdown",
   "metadata": {},
   "source": [
    "You can rotate the structure and zoom in and out using your mouse."
   ]
  },
  {
   "cell_type": "markdown",
   "metadata": {},
   "source": [
    "We can also see details of the generated structure. Let's check unit cell lengths in Angstrom."
   ]
  },
  {
   "cell_type": "code",
   "execution_count": null,
   "metadata": {},
   "outputs": [],
   "source": [
    "si_conventional.get_cell()"
   ]
  },
  {
   "cell_type": "markdown",
   "metadata": {},
   "source": [
    "Fractional atomic positions within the cell can be queried with `get_positions()` method. We have 4 Si atoms per conventional cell, so we will get 4 sets of coordinates."
   ]
  },
  {
   "cell_type": "code",
   "execution_count": null,
   "metadata": {},
   "outputs": [],
   "source": [
    "si_conventional.get_positions()"
   ]
  },
  {
   "cell_type": "markdown",
   "metadata": {},
   "source": [
    "Similar check can be done for the primitive cell."
   ]
  },
  {
   "cell_type": "code",
   "execution_count": null,
   "metadata": {},
   "outputs": [],
   "source": [
    "view(si_primitive, viewer='x3d')"
   ]
  },
  {
   "cell_type": "code",
   "execution_count": null,
   "metadata": {},
   "outputs": [],
   "source": [
    "si_primitive.get_cell()"
   ]
  },
  {
   "cell_type": "code",
   "execution_count": null,
   "metadata": {},
   "outputs": [],
   "source": [
    "si_primitive.get_positions()"
   ]
  },
  {
   "cell_type": "markdown",
   "metadata": {},
   "source": [
    "A more sophisticated optional viewing engine is NGLView."
   ]
  },
  {
   "cell_type": "code",
   "execution_count": null,
   "metadata": {},
   "outputs": [],
   "source": [
    "try:\n",
    "    import nglview\n",
    "except ImportError:\n",
    "    !pip install nglview\n",
    "    import nglview\n",
    "view(si_conventional, viewer='ngl')"
   ]
  },
  {
   "cell_type": "markdown",
   "metadata": {},
   "source": [
    "### 2. Relaxing the structure (geometry optimization)"
   ]
  },
  {
   "cell_type": "markdown",
   "metadata": {},
   "source": [
    "Phonon calculations need to be performed on a fully optimized structure, i.e. forces on atoms should be as close to zero as possible. Geometry optimization determines location of atoms in a crystal (or in a molecule) at 0K. The accuracy of the relaxation needs to be high in order to obtain reliable phonon frequencies.\n",
    "\n",
    "Here, we will use ASE to construct the VASP input files for relaxation. First, create a directory where job files will be kept. This will help in maintaining clean project space between runs."
   ]
  },
  {
   "cell_type": "code",
   "execution_count": null,
   "metadata": {},
   "outputs": [],
   "source": [
    "os.makedirs('relaxation_si', exist_ok=True)\n",
    "relaxation_dir='relaxation_si/'"
   ]
  },
  {
   "cell_type": "markdown",
   "metadata": {},
   "source": [
    "In order to properly define the VASP job, we need to pass a number of parameters describing how we want to run the calculation.\n",
    "\n",
    "The keyword `PREC` tells VASP how to set default values for various convergence parameters (energy, FFT grid, etc.). Setting this parameter to `Accurate` means VASP is going to help achieving accurate forces and then more accurate phonon spectrum.\n",
    "\n",
    "The kinetic energy cutoff specifies the energy cutoff for the plane-wave basis set in eV. Here, we will use `300` eV.\n",
    "\n",
    "The SCF loop will be considered converged, if the difference between current and previous energy will be less than `EDIFF` eV. Here, we choose 5.0e-7 eV per atom.\n",
    "\n",
    "We also want to achieve convergence for atomic forces - they should be less than 1e-5 eV/A. The negative sign of `EDIFFG` parameter means that the relaxation is stopped when the norms of all the forces are smaller than |ediffg|, which is a more convenient setting.\n",
    "\n",
    "We will use the standard `PBE` functional, well suited for first order properties like geometries.\n",
    "\n",
    "Specifying `IBRION` and `ISIF` lets us tweak the relaxation algorithm - we want to perform a relaxation calculation (`IBRION!=0`) and vary atomic positions and cell volume at each step (`ISIF=3`).\n",
    "\n",
    "For the k-point grid, we want to use a large number of points in all directions. Hence, we chose `8,8,8`. The grid should be centered on the Γ-point.\n",
    "\n",
    "Lastly, we should not store very large, unneeded files after the job completes, so we need to tell VASP to delete those.\n"
   ]
  },
  {
   "cell_type": "code",
   "execution_count": null,
   "metadata": {},
   "outputs": [],
   "source": [
    "calc=Vasp(\n",
    "    directory=relaxation_dir,      \n",
    "    label='Si_relaxation',\n",
    "    # Convergence parameters\n",
    "    prec='Accurate',# Vasp precision tag\n",
    "    encut=300,      # energy cutoff for the plane-wave basis set in eV\n",
    "    ediff=5e-7,     # Relax electronic structure until 5e-7 eV energy change between 2 electronic loop\n",
    "    ediffg=-1e-5,   # Relax ionic forces below 1e-5 eV/A\n",
    "    # Job settings\n",
    "    xc=\"pbe\",       # Use the PBE exchange and correlation functional\n",
    "    ibrion=1,       # Ionic relaxation\n",
    "    isif=3,         # Relax positions and cell volume\n",
    "    # K-point grid settings\n",
    "    kpts=[8,8,8],   # Kpoint grid\n",
    "    gamma=True,     # Gamma-centered grid\n",
    "    # Output settings\n",
    "    lwave=False,    # Do not save wave fuction files (large files)\n",
    ")"
   ]
  },
  {
   "cell_type": "markdown",
   "metadata": {},
   "source": [
    "Now, that the VASP job is generated, we can save the required files to the target directory, created earlier."
   ]
  },
  {
   "cell_type": "code",
   "execution_count": null,
   "metadata": {},
   "outputs": [],
   "source": [
    "calc.write_input(si_conventional)"
   ]
  },
  {
   "cell_type": "markdown",
   "metadata": {},
   "source": [
    "Now you can examine the content of `relaxation_si` subdirectory."
   ]
  },
  {
   "cell_type": "code",
   "execution_count": null,
   "metadata": {},
   "outputs": [],
   "source": [
    "import glob\n",
    "print(\"\\n\".join(glob.glob(\"relaxation_si/*\")))"
   ]
  },
  {
   "cell_type": "markdown",
   "metadata": {},
   "source": [
    "The four files with names in capital letters are VASP input files.\n",
    "\n",
    "`INCAR` lists parameters used in the energy and force calculations.\n",
    "`KPOINTS` describes the kpoint grid used.\n",
    "`POSCAR` describes the unit cell, atom types and their positions.\n",
    "`POTCAR` contains pseudopotentials for each atomic species.\n",
    "\n",
    "All four files are required for the calculation we are about to run.\n"
   ]
  },
  {
   "cell_type": "markdown",
   "metadata": {},
   "source": [
    "Now it is time to run the VASP calculation. For this, we need to submit the job to the cluster:<br>\n",
    "\n",
    "a) Connect to the cluster login node: open a terminal and log in with: `$ ssh <your_username>@masterp.ill.fr`.<br>\n",
    "\n",
    "b) Check that the queue you want to submit to has nodes availables using the `qload` command. If no nodes are available, change the queue in the submit script `vasp.sh`.\n",
    "\n",
    "c) Copy your job directory `relaxation_si` to the common folder, accessible from the cluster. This folder is called `MyHome` and is linked to directly in your VISA home directory. Use `$cp -r ~/relaxation_si MyHome`\n",
    "\n",
    "d) Copy your job directory `relaxation_si` to the cluster. Your VISA home folder is mounted on the cluster login node, and it is called as your username. However, the compute nodes don't have access to your home folder, so **you must copy your job directory to the cluster**.<br>\n",
    "From the cluster login node, use `$ cp -r /nethome/notill/<your_username_initial>/<your_username>/relaxation_si ~<your_username>`.<br>\n",
    "\n",
    "E.g. for `John Smith`, this would read `$ cp -r /nethome/notill/s/smith/relaxation_si ~/smith`.<br>\n",
    "\n",
    "e) Launch the job. From the job directory on the cluster (you can move to your job directory using `$ cd relaxation_si`) enter `$ qsub ILL_hpc_vasp_job_local.sh`. You can then monitor your job with `$ qstat`.\n",
    "\n",
    "f) The calculation should take aprrox. 1 min on 1x8 cpus. Copy back the job folder to your home directory using\n",
    "`$ cp -rf relaxation_si/* /nethome/notill/<your_username_initial>/<your_username>`.\n",
    "\n",
    "\n",
    "- Have a look at the results! The main output file of VASP is called `OUTCAR`. You can have a look and check out the forces on silicon atoms during the calculation. Is there anything interesting about the forces?"
   ]
  },
  {
   "cell_type": "markdown",
   "metadata": {},
   "source": [
    "### Choosing sufficient plane-wave energy cutoff"
   ]
  },
  {
   "cell_type": "markdown",
   "metadata": {},
   "source": [
    "Choosing an appropriate energy cutoff is critical for obtaining accurate results with plane-wave codes like VASP.\n",
    "The energy cutoff determines the number of plane waves included in the basis set; higher cutoffs include more plane waves, leading to more accurate but computationally more intensive calculations.\n",
    "\n",
    "The value of the energy cutoff used is already converged. You may, however, try to assure yourself that `300 eV` is indeed the correct value, by running several calculations with differing cutoffs and comparing the total energy.\n",
    "\n",
    "(The truncation of the basis set at a finite cutoff energy will lead to an error in the computed total energy and its derivatives. It is possible to reduce the magnitude of the error in a systematic way by increasing the value of the cutoff energy. In principle, the cutoff energy should be increased until the calculated total energy converges within the required tolerance.)\n",
    "\n",
    "To modify the cutoff, edit the `INCAR` file and change the line\n",
    "```\n",
    "ENCUT = 300.000000\n",
    "```\n",
    "\n",
    "to another value, then rerun the VASP optimization job and note the total energy. Running calculations between 50 and 500 eV should provide good data to assure convergence of the basis set.\n"
   ]
  },
  {
   "cell_type": "markdown",
   "metadata": {},
   "source": [
    "### Exercise 1\n",
    "\n",
    "Make a copy of the `relaxation_si` directory and name it, say `relaxation_50`.\n",
    "Change the value of the cutoff parameter and run the calculation\n",
    "Check the total energy displayed at the end of the `OUTCAR` file and note it.\n",
    "\n",
    "Repeat for a sequence of cutoffs between 50 and 600 eV."
   ]
  },
  {
   "cell_type": "markdown",
   "metadata": {},
   "source": [
    "You can also inspect the `POTCAR` file and look for the `ENMAX` parameter. This value is the maximum recommended energy cutoff for the pseudopotential (or PAW potential) provided for silicon."
   ]
  },
  {
   "cell_type": "markdown",
   "metadata": {},
   "source": [
    "| Cutoff (eV)  | Total energy |\n",
    "| --- | --- |\n",
    "|50   |  |\n",
    "|100  |  |\n",
    "|200  |  |\n",
    "|250  | |\n",
    "|300  |  |\n",
    "|400  |  |\n",
    "|500  |  |\n",
    "|600  |  |"
   ]
  },
  {
   "cell_type": "code",
   "execution_count": null,
   "metadata": {},
   "outputs": [],
   "source": [
    "cutoff = [ ... ]\n",
    "energy = [ ...]\n",
    "\n",
    "fig, ax = plt.subplots()\n",
    "ax.plot(cutoff, energy, 'o-')\n",
    "\n",
    "ax.set(xlabel='Plane wave Cutoff', ylabel='Total Energy',\n",
    "       title='Convergence test')\n",
    "ax.grid()\n",
    "\n",
    "plt.show()"
   ]
  },
  {
   "cell_type": "markdown",
   "metadata": {},
   "source": [
    "If you compare initial and final cell vector lenghts, you will notice that they did not indeed change.\n",
    "The initial structure was already optimized, as you can see in the OUTCOR file in the TOTAL-FORCE section.\n",
    "\n",
    "```\n",
    "POSITION                                       TOTAL-FORCE (eV/Angst)\n",
    " -----------------------------------------------------------------------------------\n",
    "      0.00000      0.00000      0.00000         0.000000      0.000000      0.000000\n",
    "\n",
    "```\n",
    "\n"
   ]
  },
  {
   "cell_type": "markdown",
   "metadata": {},
   "source": [
    "### Exercise 2\n",
    "\n",
    "#### Choosing sufficient k-point set:\n",
    "\n",
    "Similar convergence analysis could be done for the k-points set. The k-point mesh must be sufficiently dense to ensure that the forces (and thus phonon frequencies) are well-converged. For silicon's conventional cell (which is cubic with 8 atoms), a good starting point is a 6×6×6 Monkhorst-Pack k-point mesh.\n",
    "\n",
    "We could perform convergence tests by optimizing geometries or calculating phobon frequencies at high-symmetry points using different k-point meshes (e.g., 1x1x1, 2x2x2, 4×4×4, 6×6×6, 8×8×8, etc.) to determine the minimum mesh that provides converged results.\n",
    "\n",
    "To modify the k-points, you need to edit the KPOINTS file in the job directory and replace `8 8 8` with the mesh size requred."
   ]
  },
  {
   "cell_type": "markdown",
   "metadata": {},
   "source": [
    "Similarly to Exercise 1, prepare jobs for varying k-point sets and run them on the cluster.\n",
    "Write down total energies and try to determine if 8x8x8 is a good value."
   ]
  },
  {
   "cell_type": "markdown",
   "metadata": {},
   "source": [
    "| k-point set  | Total energy |\n",
    "| --- | --- |\n",
    "|1x1x1   |  |\n",
    "|2x2x2  |  |\n",
    "|4x4x4  |  |\n",
    "|6x6x6  |  |\n",
    "|8x8x8  |  |\n",
    "|10x10x10  |  |\n",
    "|12x12x12 |   |"
   ]
  },
  {
   "cell_type": "markdown",
   "metadata": {},
   "source": [
    "#### Optional questions\n",
    "\n",
    "Are there any other parameters you could vary?"
   ]
  },
  {
   "cell_type": "markdown",
   "metadata": {},
   "source": [
    "This is the end of Tutorial 1. Please continue with Tutorial 2 - Geometry Relaxation and Phonon Spectrum of BaTiO3H."
   ]
  }
 ],
 "metadata": {
  "kernelspec": {
   "display_name": "Python 3 (ipykernel)",
   "language": "python",
   "name": "python3"
  },
  "language_info": {
   "codemirror_mode": {
    "name": "ipython",
    "version": 3
   },
   "file_extension": ".py",
   "mimetype": "text/x-python",
   "name": "python",
   "nbconvert_exporter": "python",
   "pygments_lexer": "ipython3",
   "version": "3.11.10"
  }
 },
 "nbformat": 4,
 "nbformat_minor": 4
}
