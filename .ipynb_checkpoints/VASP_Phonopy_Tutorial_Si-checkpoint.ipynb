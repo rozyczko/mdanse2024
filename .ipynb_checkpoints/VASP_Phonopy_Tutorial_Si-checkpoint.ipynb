{
 "cells": [
  {
   "cell_type": "markdown",
   "metadata": {},
   "source": [
    "# Hands-on VASP and Phonopy: calculate vibrations.\n",
    "## Introduction \n",
    "\n",
    "Welcome to this tutorial on the use of VASP and Phonopy to calculate phonon modes.\n",
    "\n",
    "It will guide you through two examples: a $\\mathsf{Si}$ crystal and a $\\mathsf{BaTiO_{3-x}H_x}$ crystal.<br>\n",
    "\n",
    "The tutorial uses a Python interface to write and read inputs/output files from VASP, called Atomic Simulation Environment (ASE) (https://wiki.fysik.dtu.dk/ase/index.html).\n",
    "While the inputs files are created using ASE and the following python scripts in this notebook, VASP is executed on the ILL  high-performance computing (HPC) server (or cluster) called `masterp`.\n",
    "You will also learn how to submit jobs to this cluster.\n",
    "\n",
    "If not already done, please copy this Jupyer file (.ipynb) to your home directory.\n",
    "\n",
    "Let us load all the useful Python modules. Execute the following cell by selecting it and clicking the $ \\blacktriangleright $ symbol in the toolbar."
   ]
  },
  {
   "cell_type": "code",
   "execution_count": null,
   "metadata": {},
   "outputs": [],
   "source": [
    "import os\n",
    "import numpy as np\n",
    "import matplotlib.pyplot as plt\n",
    "from ase import Atoms\n",
    "from ase.build import bulk\n",
    "from ase.visualize import view\n",
    "from ase.calculators.vasp import Vasp\n",
    "from ase.io import read, write\n",
    "from phonopy import Phonopy, load\n",
    "from phonopy.structure.atoms import PhonopyAtoms\n",
    "from phonopy.interface.calculator import read_crystal_structure\n",
    "from phonopy.interface.vasp import parse_set_of_forces, write_vasp\n",
    "from phonopy.phonon.band_structure import get_band_qpoints_and_path_connections\n",
    "# %env VASP_PP_PATH=/nethome/ds/finel/MDANSE_School_Hands-on_VASP_Phonopy/\n",
    "%env VASP_PP_PATH=."
   ]
  },
  {
   "cell_type": "markdown",
   "metadata": {},
   "source": [
    "## Example 1: Si crystal"
   ]
  },
  {
   "cell_type": "code",
   "execution_count": null,
   "metadata": {
    "vscode": {
     "languageId": "plaintext"
    }
   },
   "outputs": [],
   "source": [
    "In this tutorial, we will create a model of silicon crystal, display it and perform simple geometry optimization and phonon calculations using VASP and Phonopy.\n",
    "\n",
    "For phonons, we need to evaluate second derivatives of energy with respect to the atomic displacement, hence the location of the atom in the cell should be as precise as possible to avoid errors. We will achieve this by careful optimization of the atomic positions inside the cell (relaxation).\n",
    "\n",
    "First, we will generate initial structure of the silicon lattice. For this, we will use ASE, since it allows us to quickly and easily generate structures - both molecular and periodic."
   ]
  },
  {
   "cell_type": "markdown",
   "metadata": {},
   "source": [
    "### 1. Preparing the structure"
   ]
  },
  {
   "cell_type": "markdown",
   "metadata": {},
   "source": [
    "First, let's create conventional and primitive unit cells for FCC silicon, with the lattice constant of 5.43Å (experimental value)"
   ]
  },
  {
   "cell_type": "code",
   "execution_count": null,
   "metadata": {},
   "outputs": [],
   "source": [
    "si_conventional = bulk('Si', 'fcc', a=5.43, cubic=True)\n",
    "si_primitive = bulk('Si', 'fcc', a=5.43)"
   ]
  },
  {
   "cell_type": "markdown",
   "metadata": {},
   "source": [
    "We can visualize the cell using one of several tools which come with ASE."
   ]
  },
  {
   "cell_type": "code",
   "execution_count": null,
   "metadata": {},
   "outputs": [],
   "source": [
    "view(si_conventional, viewer='x3d')"
   ]
  },
  {
   "cell_type": "markdown",
   "metadata": {},
   "source": [
    "Number of atoms in the cell and cell dimensions can be queried by looking at the generated object."
   ]
  },
  {
   "cell_type": "code",
   "execution_count": null,
   "metadata": {},
   "outputs": [],
   "source": [
    "si_conventional"
   ]
  },
  {
   "cell_type": "markdown",
   "metadata": {},
   "source": [
    "Similarly, let's look at the primitive cell."
   ]
  },
  {
   "cell_type": "code",
   "execution_count": null,
   "metadata": {},
   "outputs": [],
   "source": [
    "view(si_primitive, viewer='x3d')"
   ]
  },
  {
   "cell_type": "code",
   "execution_count": null,
   "metadata": {},
   "outputs": [],
   "source": [
    "si_primitive.cell"
   ]
  },
  {
   "cell_type": "markdown",
   "metadata": {},
   "source": [
    "A more sophisticated optional viewing engine is NGLView."
   ]
  },
  {
   "cell_type": "code",
   "execution_count": null,
   "metadata": {},
   "outputs": [],
   "source": [
    "try:\n",
    "    import nglview\n",
    "except ImportError:\n",
    "    !pip install nglview\n",
    "    import nglview\n",
    "view(si_primitive, viewer='ngl')"
   ]
  },
  {
   "cell_type": "markdown",
   "metadata": {},
   "source": [
    "### 2. Relaxing the structure (geometry optimization)"
   ]
  },
  {
   "cell_type": "markdown",
   "metadata": {},
   "source": [
    "Phonon calculations need to be done on a fully optimized structure, i.e. forces on atoms should be as close to zero as possible. This can be achieved by performing geometry optimization determines location of atoms in a crystal (or in a molecule) at 0K. The accuracy of the relaxation needs to be high in order to obtain reliable phonon frequencies.\n",
    "\n",
    "Here, we will again use ASE to construct the VASP input files for relaxation. First, you need to create a directory where job files will be kept. This will help in maintaining clean project space between runs."
   ]
  },
  {
   "cell_type": "code",
   "execution_count": null,
   "metadata": {},
   "outputs": [],
   "source": [
    "relaxation_dir='relaxation_si/'"
   ]
  },
  {
   "cell_type": "markdown",
   "metadata": {},
   "source": [
    "In order to properly define the VASP job, we need to pass a number of parameters describing how we want to run the calculation.\n",
    "\n",
    "The keyword `PREC` tells VASP how to set default values for various convergence parameters (energy, FFT grid, etc.). Setting this parameter to `Accurate` means VASP is going to help achieving accurate forces and then more accurate phonon spectrum.\n",
    "\n",
    "The kinetic energy cutoff specifies the energy cutoff for the plane-wave basis set in eV. Here, we will use `200` eV.\n",
    "\n",
    "The SCF loop will be considered converged, if the difference between current and previous energy will be less than `EDIFF` eV. Here, we choose 5.0e-7 eV per atom.\n",
    "\n",
    "We also want to achieve convergence for atomic forces - they should be less than 1e-5 eV/A. The negative sign of `EDIFFG` parameter means that the relaxation is stopped when the norms of all the forces are smaller than |ediffg|, which is a more convenient setting.\n",
    "\n",
    "We will use the standard `PBE` functional, well suited for first order properties like geometries.\n",
    "\n",
    "Specifying `IBRION` and `ISIF` lets us tweak the relaxation algorithm - we want to perform a relaxation calculation (`IBRION!=0`) and vary atomic positions and cell volume at each step.\n",
    "\n",
    "For the k-point grid, we want to use a large number of points in all directions. Hence, we chose `8,8,8`. The grid should be centered on the Γ-point.\n",
    "\n",
    "Lastly, we should not store very large, unneeded files after the job completes, so we need to tell VASP to delete those.\n"
   ]
  },
  {
   "cell_type": "code",
   "execution_count": null,
   "metadata": {},
   "outputs": [],
   "source": [
    "calc=Vasp(\n",
    "    directory=relaxation_dir,      \n",
    "    label='Si_relaxation',\n",
    "    # Convergence parameters\n",
    "    prec='Accurate',# Vasp precision tag\n",
    "    encut=500,      # energy cutoff for the plane-wave basis set in eV\n",
    "    ediff=5e-7,     # Relax electronic structure until 5e-7 eV energy change between 2 electronic loop\n",
    "    ediffg=-1e-5,   # Relax ionic forces below 1e-5 eV/A\n",
    "    # Job settings\n",
    "    xc=\"pbe\",       # Use the PBE exchange and correlation functional\n",
    "    ibrion=1,       # Ionic relaxation\n",
    "    isif=2,         # Relax positions and cell volume\n",
    "    # K-point grid settings\n",
    "    kpts=[8,8,8],   # Kpoint grid\n",
    "    gamma=True,     # Gamma-centered grid\n",
    "    # Output settings\n",
    "    lwave=False,    # Do not save wave fuction files (large files)\n",
    ")"
   ]
  },
  {
   "cell_type": "markdown",
   "metadata": {},
   "source": [
    "For the sake of expediency we will use the primitive cell. You are welcome to repeat the calculations using the conventional cell to assure that the frequencies obtained match those calculated with the primitive cell."
   ]
  },
  {
   "cell_type": "code",
   "execution_count": null,
   "metadata": {},
   "outputs": [],
   "source": [
    "calc.write_input(si_primitive)"
   ]
  },
  {
   "cell_type": "markdown",
   "metadata": {},
   "source": [
    "Now you can examine the content of `relaxation_si` subdirectory."
   ]
  },
  {
   "cell_type": "code",
   "execution_count": null,
   "metadata": {},
   "outputs": [],
   "source": [
    "import glob\n",
    "print(\"\\n\".join(glob.glob(\"relaxation_si/*\")))"
   ]
  },
  {
   "cell_type": "markdown",
   "metadata": {},
   "source": [
    "The four files with names in capital letters are VASP input files.\n",
    "\n",
    "`INCAR` lists parameters used in the energy and force calculations.\n",
    "`KPOINTS` describes the kpoint grid used.\n",
    "`POSCAR` describes the unit cell, atom types and their positions.\n",
    "`POTCAR` contains pseudopotentials for each atomic species.\n",
    "\n",
    "All four files are required for the calculation we are about to run.\n"
   ]
  },
  {
   "cell_type": "markdown",
   "metadata": {},
   "source": [
    "```sh\n",
    "-rw-r--r-- 1 <username> other    180 Oct 17 09:22 INCAR\n",
    "-rw-r--r-- 1 <username> other     74 Oct 17 09:22 KPOINTS\n",
    "-rw-r--r-- 1 <username> other    317 Oct 17 09:22 POSCAR\n",
    "-rw-r--r-- 1 <username> other 198258 Oct 17 09:22 POTCAR\n",
    "```"
   ]
  },
  {
   "cell_type": "markdown",
   "metadata": {},
   "source": [
    "Now it is time to run the VASP calculation. For this, we need to submit the job to the cluster:<br>\n",
    "\n",
    "a) Connect to the cluster login node: open a terminal and log in with: `$ ssh <your_username>@masterp.ill.fr`.<br>\n",
    "\n",
    "b) Check that the queue you want to submit to has nodes availables using the `qload` command. If no nodes are available, change the queue in the submit script `vasp.sh`.\n",
    "\n",
    "c) Copy your job directory `relaxation_si` to the cluster. From the VISA instance, use `scp -r relaxation_si <your_username>@masterp.ill.fr:` to transfer the whole directory to the main cluster node.\n",
    "\n",
    "d) Launch the job. From the job directory on the cluster launch the job using `$ qsub vasp.sh`. You can then monitor your job with `$ qstat`.\n",
    "\n",
    "e) Check the VASP log file. Type: `$ more vasp_job.log`. It is updated during the calculation. You can see each electronic and ionic step.\n",
    "\n",
    "f) The calculation shoud take aprrox. 2 mins on 1x8 cpus (there is only 1 atom to be displaced). Once it is completed, you will see in the log file `reached required accuracy - stopping structural energy minimisation`. Copy back the job folder to your home directory using `$ cp -r /destination_directory_on_the_cluster ~/your_username/your_directory/`.\n",
    "\n",
    "- Have a look at the results! The main output file of VASP is called `OUTCAR`. You can have a look and check out the forces decreasing with increasing ionic steps. The same data is also outputed in a xml file `vasprun.xml`. Use `read()` to load the file and plot the force along the ionic steps."
   ]
  }
 ],
 "metadata": {
  "kernelspec": {
   "display_name": "Python 3 (ipykernel)",
   "language": "python",
   "name": "python3"
  },
  "language_info": {
   "codemirror_mode": {
    "name": "ipython",
    "version": 3
   },
   "file_extension": ".py",
   "mimetype": "text/x-python",
   "name": "python",
   "nbconvert_exporter": "python",
   "pygments_lexer": "ipython3",
   "version": "3.12.7"
  }
 },
 "nbformat": 4,
 "nbformat_minor": 4
}
